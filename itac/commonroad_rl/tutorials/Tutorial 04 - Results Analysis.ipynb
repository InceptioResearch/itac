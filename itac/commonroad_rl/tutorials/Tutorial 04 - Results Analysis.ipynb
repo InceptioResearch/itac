{
 "cells": [
  {
   "cell_type": "markdown",
   "metadata": {},
   "source": [
    "# Tutorial 04 - Results Analysis\n",
    "Having performed some learning processes, this tutorial explains how to apply available tools in the CommonRoad-RL package to demonstrate results. These include\n",
    "* how to plot learning curves of rewards and other information\n",
    "* how to render a trained model in various scenarios over entire episodes\n",
    "* how to generate a CommonRoad solution for system submission"
   ]
  },
  {
   "cell_type": "markdown",
   "metadata": {},
   "source": [
    "## 0. Preparation\n",
    "\n",
    "Please check the followings:\n",
    "* current path is at the project root `commonroad-rl`, i.e. two upper layers to the `tutorials` folder\n",
    "* interactive python kernel is triggered from the correct environment\n",
    "\n",
    "In addition, please make sure the following files exist:  \n",
    "* a processed data directory at `tutorials/data/highD/pickles`\n",
    "* a trained model at `tutorials/logs/best_model.zip`\n",
    "* a saved environment wrapper `tutorials/logs/vecnormalize.pkl`\n",
    "* a monitored information file `tutorials/logs/infos.monitor.csv`\n",
    "* a recorded evaluation file `tutorials/logs/evaluations.npz`\n",
    "\n",
    "Otherwise, see **Tutorial 01 - Data Preprocessing**, **Tutorial 02 - Vanilla Learning** and **Tutorial 03 - Continual Learning**."
   ]
  },
  {
   "cell_type": "code",
   "execution_count": null,
   "metadata": {},
   "outputs": [],
   "source": [
    "# Check current path\n",
    "%cd ../..\n",
    "%pwd\n",
    "\n",
    "# Check interactive python kernel\n",
    "import sys\n",
    "sys.executable"
   ]
  },
  {
   "cell_type": "markdown",
   "metadata": {},
   "source": [
    "## 1. Plot learning curves\n",
    "A learning process is usually recorded with information such as reward values and terminating conditions, resulting in a `.monitor.csv` file. In out case, we have `tutorials/logs/infos.monitor.csv` and `tutorials/logs/test/infos.monitor.csv`.\n",
    " \n",
    "After a learning process is finished, we need to check the convergence of the model. Simply use `commonroad_rl/plot_learning_curves.py` to plot out the learning curves from the recorded data. "
   ]
  },
  {
   "cell_type": "code",
   "execution_count": null,
   "metadata": {},
   "outputs": [],
   "source": [
    "!python -m commonroad_rl.plot_learning_curves \\\n",
    "          --log-folder commonroad_rl/tutorials \\\n",
    "          --model_path logs \\\n",
    "          --legend_name ppo2 #\\\n",
    "          # --smooth"
   ]
  },
  {
   "cell_type": "markdown",
   "metadata": {},
   "source": [
    "## 2. Render the best model\n",
    "\n",
    "To see the learned behavior of the ego vehicle in a scenario, we apply `commonroad_rl/evaluate_model.py`, which in turn employs the rendering function defined in `commonroad_rl/gym_commonroad/commonroad_env.py`. As an example, we do this by calling this file with a terminal command, using our result from **Tutorial 03 - Continual Learning**."
   ]
  },
  {
   "cell_type": "code",
   "execution_count": null,
   "metadata": {},
   "outputs": [],
   "source": [
    "# Call python script to render a trained model in a scenario\n",
    "!python -m commonroad_rl.evaluate_model \\\n",
    "          --algo ppo2 \\\n",
    "          --model_path commonroad_rl/tutorials/logs \\\n",
    "          --test_path commonroad_rl/tutorials/data/highD/pickles \\\n",
    "          --viz_path commonroad_rl/tutorials/imgs"
   ]
  },
  {
   "cell_type": "markdown",
   "metadata": {},
   "source": [
    "As seen from the output messages, the model is verified by various scenarios in the `tutorials/data/highD/pickles` directory and there should be rendered images under `tutorials/imgs` now."
   ]
  },
  {
   "cell_type": "markdown",
   "metadata": {},
   "source": [
    "## 3. Perform Sensitivity Analysis\n",
    "To evaluate the importance of a specific observation, we apply `commonroad_rl/sensitivity_analysis.py` on the trained model, which uses the [SALib library](https://salib.readthedocs.io/en/latest/) .\n",
    "The sensitivity analysis can apply 5 different algorithms. The algorithms and their respective output with interpretation are described below:\n",
    "- Sobol Sensitivity Analysis (default/ `--method sobol`)\n",
    "    - S1 (first‐order sensitivity indices as the main effect are used to measure the fractional contribution of a single parameter to the output variance - The higer the value, the more critical is the input parameter for the output)\n",
    "    - S2 (Second‐order sensitivity indices are used to measure the fractional contribution of parameter interactions to the output variance - correlation of two inputs weighted by the effect they have on the output)\n",
    "    - ST (Total‐order sensitivity indices take into account both the main, second‐order and higher‐order effects)\n",
    "    - S1_conf/ S2_conf/ ST_conf (Confidence intervals of the individual sensitivity indices)\n",
    "\n",
    "- FAST - Fourier Amplitude Sensitivity Test (`--method fast`)\n",
    "    - S1 (first-order sensitivity)\n",
    "    - ST (total-order sensitivity)\n",
    "\n",
    "- RBD-FAST - Random Balance Designs Fourier Amplitude Sensitivity Test (`--method rbd_fast`)\n",
    "    - S1 (first-order sensitivity)\n",
    "\n",
    "- Method of Morris (`--method morris`)\n",
    "    - mu (one-step-at-a-time first order sensitivity (onyl one input is changed from one input to the next)) (Can contain errors when the function is non-monotonic. If mu is low and sigma for the respective observation is high, the mu shows a wrong value --> mu_star resolves this issue)\n",
    "    - mu_star (one-step-at-a-time first order sensitivity with absolute values)\n",
    "    - sigma (standard deviation of the sensitivity of an observation)\n",
    "    - sigma_conf (sigma confidence)\n",
    "\n",
    "    \n",
    "- Delta Moment-Independent Measure (`--method delta`)\n",
    "    - delta (distance measure between the output probability and the output probability conditioned on the respecitve variable)\n",
    "    - delta_conf\n",
    "    - S1 (first-order sensitivity based on sobol)\n",
    "    - S1_conf\n",
    "\n",
    "Note that the results are saved in `tutorials/logs/sens_analysis_figs`"
   ]
  },
  {
   "cell_type": "code",
   "execution_count": null,
   "metadata": {},
   "outputs": [],
   "source": [
    "!python -m commonroad_rl.sensitivity_analysis \\\n",
    "    --algo ppo2 \\\n",
    "    --method sobol \\\n",
    "    --model_path commonroad_rl/tutorials/logs \\\n",
    "    --save_path commonroad_rl/tutorials/logs \\\n",
    "    --data_path commonroad_rl/tutorials/data/highD/pickles \\\n",
    "    --save_fig"
   ]
  },
  {
   "cell_type": "markdown",
   "metadata": {},
   "source": [
    "## 4. Generate a CommonRoad solution\n",
    "Similarly, `commonroad_rl/generate_solution.py` helps generate CommonRoad solutions from successful trained models. For example, we run the following command.\n",
    "It might be that you have to adapt the test path to the location of your test pickle-files. In addition, the meta_scenario folder has to be located at:  `tutorials/data/highD/meta_scenario`"
   ]
  },
  {
   "cell_type": "code",
   "execution_count": null,
   "metadata": {},
   "outputs": [],
   "source": [
    "!python -m commonroad_rl.generate_solution \\\n",
    "          --algo ppo2 \\\n",
    "          --model_path commonroad_rl/tutorials/logs \\\n",
    "          --test_path commonroad_rl/tutorials/data/highD/pickles \\\n",
    "          --solution_path commonroad_rl/tutorials/sols"
   ]
  },
  {
   "cell_type": "markdown",
   "metadata": {},
   "source": [
    "Again the model is run with the testing scenarios, yet there are no actual solutions being generated under `tutorials/sols` because the goal is not reached in any cases. If a powerful model is obtained, calling the Python file shall generate CommonRoad solutions for all goal-reaching scenarios. Then you can upload your solutions to the [CommonRoad website](https://commonroad.in.tum.de/) to compete with motion planner researchers all over the world!"
   ]
  },
  {
   "cell_type": "markdown",
   "metadata": {
    "pycharm": {
     "name": "#%% md\n"
    }
   },
   "source": [
    "\n"
   ]
  }
 ],
 "metadata": {
  "@webio": {
   "lastCommId": null,
   "lastKernelId": null
  },
  "kernelspec": {
   "display_name": "Python (cr37_release)",
   "language": "python",
   "name": "cr37-release"
  },
  "language_info": {
   "codemirror_mode": {
    "name": "ipython",
    "version": 3
   },
   "file_extension": ".py",
   "mimetype": "text/x-python",
   "name": "python",
   "nbconvert_exporter": "python",
   "pygments_lexer": "ipython3",
   "version": "3.7.10"
  }
 },
 "nbformat": 4,
 "nbformat_minor": 4
}
