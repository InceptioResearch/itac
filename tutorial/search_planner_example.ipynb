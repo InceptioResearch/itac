{
 "cells": [
  {
   "cell_type": "markdown",
   "id": "01686984",
   "metadata": {},
   "source": [
    "# Search Based Planner Example\n",
    "\n",
    "In this tutorial we use search based method to solve planning problems.\n",
    "\n",
    "Firstly, we need to import necessary modules."
   ]
  },
  {
   "cell_type": "code",
   "execution_count": null,
   "id": "a06e77e2",
   "metadata": {},
   "outputs": [],
   "source": [
    "import os, sys\n",
    "import matplotlib.pyplot as plt\n",
    "import argparse\n",
    "import time\n",
    "\n",
    "from itac import *\n",
    "from SMP.motion_planner.motion_planner import MotionPlanner, MotionPlannerType  # NOQA\n",
    "from SMP.motion_planner.utility import plot_primitives,create_trajectory_from_list_states  # NOQA\n",
    "from SMP.maneuver_automaton.maneuver_automaton import ManeuverAutomaton  # NOQA\n",
    "\n",
    "### change to root dir\n",
    "os.chdir(os.getenv('ITAC_ROOT'))"
   ]
  },
  {
   "cell_type": "markdown",
   "id": "32f6bce3",
   "metadata": {},
   "source": [
    "Then we input scenario file and vehicle primitives file, here we use sedan vehicle model as example. \n",
    "\n",
    "Here you can select different search methods to solve the planning problem. Here we choose ASTAR search.\n",
    "\n",
    "And we can also plot the vehicle primitives."
   ]
  },
  {
   "cell_type": "code",
   "execution_count": null,
   "id": "1de3aa85-a8fd-4a4d-a746-f014cef87fcd",
   "metadata": {},
   "outputs": [],
   "source": [
    "# input scenario file\n",
    "file = 'scenarios/highway/CHN_AEB-1_1_T-1.xml'\n",
    "# search method\n",
    "planner = 'ASTAR'\n",
    "# vehicle primitives\n",
    "vehicle = 'itac/vehiclemodels/primitives/vehicle_model_primitives_V_0.0_20.0_Vstep_4.0_SA_-1.066_1.066_SAstep_0.18_T_0.5_Model_BMW_320i.xml'\n",
    "\n",
    "if planner == 'ASTAR':\n",
    "    # A* Search\n",
    "    type_motion_planner = MotionPlannerType.ASTAR\n",
    "elif planner == 'GBFS':\n",
    "    # Greedy Best First Search\n",
    "    type_motion_planner = MotionPlannerType.GBFS\n",
    "elif planner == 'UCS':\n",
    "    # Uniform Cost Search (aka Dijkstra's algorithm)\n",
    "    type_motion_planner = MotionPlannerType.UCS\n",
    "elif planner == 'BFS':\n",
    "    # Breadth First Search\n",
    "    type_motion_planner = MotionPlannerType.BFS\n",
    "elif planner == 'DFS':\n",
    "    # Depth First Search\n",
    "    type_motion_planner = MotionPlannerType.DFS\n",
    "elif planner == 'STUDENT':\n",
    "    # you own motion planner\n",
    "    type_motion_planner = MotionPlannerType.STUDENT\n",
    "\n",
    "print('Input commonroad xml file: {}'.format(file))\n",
    "print('Choose search motion planner: {}'.format(planner))\n",
    "# read in scenario and planning problem set\n",
    "scenario, planning_problem_set = CommonRoadFileReader(file).open()\n",
    "# retrieve the first planning problem in the problem set\n",
    "planning_problem = list(\n",
    "    planning_problem_set.planning_problem_dict.values())[0]\n",
    "\n",
    "# load the xml with stores the motion primitives\n",
    "name_file_motion_primitives = vehicle\n",
    "# generate automaton\n",
    "automaton = ManeuverAutomaton.generate_automaton(\n",
    "    name_file_motion_primitives)\n",
    "plot_primitives(automaton.list_primitives)\n"
   ]
  },
  {
   "cell_type": "markdown",
   "id": "1af242f2",
   "metadata": {},
   "source": [
    "We construct the motion planner and solve for the solution."
   ]
  },
  {
   "cell_type": "code",
   "execution_count": null,
   "id": "7df122ac",
   "metadata": {},
   "outputs": [],
   "source": [
    "# construct motion planner\n",
    "print('Construct motion planner ...')\n",
    "motion_planner = MotionPlanner.create(scenario=scenario,\n",
    "                                      planning_problem=planning_problem,\n",
    "                                      automaton=automaton,\n",
    "                                      motion_planner_type=type_motion_planner)\n",
    "\n",
    "# solve for solution\n",
    "print('Solve for solution ...')\n",
    "list_paths_primitives, _, _ = motion_planner.execute_search(vehicle_type = 'SEDAN')\n",
    "print('Find solution ...')"
   ]
  },
  {
   "cell_type": "markdown",
   "id": "8adc4e13",
   "metadata": {},
   "source": [
    "After finding a solution, we can visualize the solution we obtained."
   ]
  },
  {
   "cell_type": "code",
   "execution_count": null,
   "id": "a744b601-ebad-45ed-b222-17421e8a0077",
   "metadata": {},
   "outputs": [],
   "source": [
    "print('Visualize solution ...')\n",
    "trajectory_solution = create_trajectory_from_list_states(\n",
    "    list_paths_primitives)\n",
    "\n",
    "# visualize solution\n",
    "from visualize_solution import visualize_solution\n",
    "visualize_solution(scenario, planning_problem_set, trajectory_solution)"
   ]
  },
  {
   "cell_type": "markdown",
   "id": "8427c74c",
   "metadata": {},
   "source": [
    "And finally we can write solution to a CommonRoad XML file."
   ]
  },
  {
   "cell_type": "code",
   "execution_count": null,
   "id": "9c633016-d97a-4a37-9168-6a69d928e99e",
   "metadata": {},
   "outputs": [],
   "source": [
    " # create PlanningProblemSolution object\n",
    "kwarg = {'planning_problem_id': planning_problem.planning_problem_id,\n",
    "         # used vehicle model, change if needed\n",
    "         'vehicle_model': VehicleModel.SEDAN,\n",
    "         # used vehicle type, change if needed\n",
    "         'vehicle_type': VehicleType.SEDAN,\n",
    "         # cost funtion\n",
    "         'cost_function': CostFunction.ST,\n",
    "         'trajectory': trajectory_solution}\n",
    "\n",
    "planning_problem_solution = PlanningProblemSolution(**kwarg)\n",
    "\n",
    "# create Solution object\n",
    "kwarg = {'scenario_id': scenario.scenario_id,\n",
    "         'planning_problem_solutions': [planning_problem_solution]}\n",
    "\n",
    "solution = Solution(**kwarg)\n",
    "\n",
    "dir_output = \"./outputs/solutions/\"\n",
    "if not os.path.exists(dir_output):\n",
    "    os.makedirs(dir_output)\n",
    "# write solution to a CommonRoad XML file\n",
    "csw = CommonRoadSolutionWriter(solution)\n",
    "csw.write_to_file(output_path=dir_output, overwrite=True)\n",
    "print('Solution file saved.')"
   ]
  }
 ],
 "metadata": {
  "kernelspec": {
   "display_name": "Python 3.9.13 ('venv_itac': venv)",
   "language": "python",
   "name": "python3"
  },
  "language_info": {
   "codemirror_mode": {
    "name": "ipython",
    "version": 3
   },
   "file_extension": ".py",
   "mimetype": "text/x-python",
   "name": "python",
   "nbconvert_exporter": "python",
   "pygments_lexer": "ipython3",
   "version": "3.9.13"
  },
  "vscode": {
   "interpreter": {
    "hash": "e8fd764ea123fbb9af443e5d4d1c6af002519b60b567d7877a4563f6406eef83"
   }
  }
 },
 "nbformat": 4,
 "nbformat_minor": 5
}
