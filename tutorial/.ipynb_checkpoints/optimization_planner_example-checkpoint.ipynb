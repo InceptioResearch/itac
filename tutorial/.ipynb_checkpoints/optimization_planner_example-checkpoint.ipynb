{
 "cells": [
  {
   "cell_type": "markdown",
   "metadata": {},
   "source": [
    "# **Optimization Planner Examples**\n",
    "### In this tutorial we use optimization method to solve planning problems.\n",
    "### We will start with planning on a point-mass vehicle given a priori decision using convex optimization. If you are not familiar convex optimization, please refer to <a href=\"https://zhuanlan.zhihu.com/p/37108430\" target=\"_blank\">理解凸优化</a> and <a href=\"https://web.stanford.edu/~boyd/cvxbook/bv_cvxbook.pdf\" target=\"_blank\">convex optimization</a>. We will be using <a href=\"https://www.cvxpy.org/\" target=\"_blank\">cvxpy</a> as solver.\n",
    "### After solving this problem with the point-mass model, we will try to solve the same problem with a linearized version of <a href=\"https://gitlab.lrz.de/tum-cps/commonroad-vehicle-models/-/blob/master/vehicleModels_commonRoad.pdf\" target=\"_blank\">KST model</a>, where we first optimize lateral waypoints and then optimize longitudinal displacement and speed.\n",
    "### Finally, we will lose the priori decision and utilize nonlinear optimization to solve the problem with SEMI_TRAILER model using <a href=\"https://web.casadi.org/\" target=\"_blank\">CasADi</a> as a solver.\n",
    "\n"
   ]
  },
  {
   "cell_type": "code",
   "execution_count": 1,
   "metadata": {
    "tags": []
   },
   "outputs": [],
   "source": [
    "import os, sys\n",
    "import matplotlib.pyplot as plt\n",
    "import argparse\n",
    "import time\n",
    "import math\n",
    "import cvxpy as cp\n",
    "from itac import *\n",
    "from SMP.motion_planner.motion_planner import MotionPlanner, MotionPlannerType  # NOQA\n",
    "from SMP.motion_planner.utility import plot_primitives,create_trajectory_from_list_states  # NOQA\n",
    "from SMP.maneuver_automaton.maneuver_automaton import ManeuverAutomaton  # NOQA\n",
    "import optimization_planner_example_utils as opt_utils\n",
    "from optimization_planner_example_utils import *\n",
    "\n",
    "\n",
    "### change to root dir\n",
    "os.chdir(os.getenv('ITAC_ROOT'))"
   ]
  },
  {
   "cell_type": "markdown",
   "metadata": {},
   "source": [
    "***\n",
    "## **1. Point-mass Model with Convex Optimization**\n",
    "***\n",
    "#### In this example we utilize convex optimization to solve a trajectory planning problem with a point-mass model given a priori decision. The priori decision is to: \n",
    "* #### change to left lane;\n",
    "* #### overtake the obstacle trying to reach max speed."
   ]
  },
  {
   "cell_type": "markdown",
   "metadata": {},
   "source": [
    "### **1.1 Set up point-mass constraints and parameters**"
   ]
  },
  {
   "cell_type": "code",
   "execution_count": null,
   "metadata": {},
   "outputs": [],
   "source": [
    "# get constraints\n",
    "c = opt_utils.ConstraintsPointMass()\n",
    "c.x_s_min = -30  # feasible x displacement of vehicle\n",
    "c.x_s_max = 200  # feasible x displacement of vehicle\n",
    "c.x_l_min = -7 # feasible y displacement of vehicle\n",
    "c.x_l_max = 7 # feasible y displacement of vehicle\n",
    "\n",
    "c.v_s_min = 0  # feasible x velocity of vehicle\n",
    "c.v_s_max = 40 # feasible x velocity of vehicle\n",
    "c.v_l_min = -1.5 # feasible y velocity of vehicle\n",
    "c.v_l_max = 1.5 # feasible y velocity of vehiclez\n",
    "\n",
    "c.a_s_min = -6 # feasible x acceleration of vehicle\n",
    "c.a_s_max =  6 # feasible x acceleration of vehicle\n",
    "c.a_l_min =  -1.0 # feasible y acceleration of vehicle\n",
    "c.a_l_max =  1.0 # feasible y acceleration of vehicle\n",
    "\n",
    "# get ego paramteres\n",
    "vehicle3 = parameters_sedan.parameters_sedan()\n",
    "class EgoParameters:\n",
    "    length = vehicle3.l\n",
    "    width = vehicle3.w\n",
    "ep = EgoParameters()"
   ]
  },
  {
   "cell_type": "markdown",
   "metadata": {},
   "source": [
    "### **1.2 Load scenario and visualize**"
   ]
  },
  {
   "cell_type": "code",
   "execution_count": 3,
   "metadata": {},
   "outputs": [],
   "source": [
    "## Load the scenario.\n",
    "file_path = 'tutorial/test_scenarios/itac_optimization_planner_example.xml'\n",
    "scenario, planning_problem_set = CommonRoadFileReader(file_path).open()\n",
    "\n",
    "# problem dimensions\n",
    "N  = 50  # number of time steps\n",
    "dT = scenario.dt  # time step"
   ]
  },
  {
   "cell_type": "code",
   "execution_count": 4,
   "metadata": {},
   "outputs": [
    {
     "data": {
      "image/png": "[encoded data removed]",
      "text/plain": [
       "<Figure size 1800x720 with 1 Axes>"
      ]
     },
     "metadata": {
      "needs_background": "light"
     },
     "output_type": "display_data"
    }
   ],
   "source": [
    "## Plot the scenario for each time step.\n",
    "from IPython import display\n",
    "plt.ion()\n",
    "plt.figure(figsize=(25, 10))\n",
    "for i in range(0, N):\n",
    "    plt.figure(figsize=(25, 10))\n",
    "    display.clear_output(wait=True)\n",
    "    rnd = MPRenderer()\n",
    "    scenario.draw(rnd, draw_params={'time_begin': i})\n",
    "    planning_problem_set.draw(rnd)\n",
    "    rnd.render()\n",
    "    plt.pause(0.1)"
   ]
  },
  {
   "cell_type": "markdown",
   "metadata": {},
   "source": [
    "### **1.3 Extract obstacle from scenario**\n",
    "#### **Please be noted that**: in the dummy scenario above, the lanes are straight and parallel to the $x$ axis under global coordinate system, so we directly use the 'points under global coordinate system' as 'points under frenet coordinate system' for simplicity.\n",
    "#### In real scenarios, you will need to transform the points between the two coordinate systems, check <a href=\"https://commonroad.in.tum.de/docs/commonroad-drivability-checker/sphinx/06_curvilinear_coordinate_system.html#\" target=\"_blank\">commonroad_dc</a> for instructions.\n",
    "\n"
   ]
  },
  {
   "cell_type": "code",
   "execution_count": 5,
   "metadata": {},
   "outputs": [
    {
     "data": {
      "image/png": "[encoded data removed]",
      "text/plain": [
       "<Figure size 1800x216 with 1 Axes>"
      ]
     },
     "metadata": {
      "needs_background": "light"
     },
     "output_type": "display_data"
    }
   ],
   "source": [
    "## Get longitudinal and lateral boundaries of dynamic obstacles in each time step, \n",
    "## here we are assuming that the obstacles are observed through out the N time steps with no missings.\n",
    "dyn_obstacles = scenario.dynamic_obstacles\n",
    "obstacle_bounds = {}\n",
    "for o in dyn_obstacles:\n",
    "    prediction = o.prediction.trajectory.state_list\n",
    "    obs_id = o.obstacle_id\n",
    "    obstacle_bound = {\n",
    "                      's_min': [],\n",
    "                      'l_min': [],\n",
    "                      's_max': [],\n",
    "                      'l_max': []\n",
    "                     }\n",
    "    for i, p in enumerate(prediction):\n",
    "        obstacle_bound['s_min'].append(p.position[0]-o.obstacle_shape.length/2. - 2.5) # hard coded distances\n",
    "        obstacle_bound['l_min'].append(p.position[1]-o.obstacle_shape.width/2. - 0.5)\n",
    "        obstacle_bound['s_max'].append(p.position[0]+o.obstacle_shape.length/2. + 2.5)\n",
    "        obstacle_bound['l_max'].append(p.position[1]+o.obstacle_shape.width/2. + 0.5)\n",
    "    obstacle_bounds[obs_id] = obstacle_bound\n",
    "\n",
    "## Plot bound along timestep.\n",
    "plt.figure(figsize=(25, 3))\n",
    "for i, (obs_id, obstacle_bound) in enumerate(obstacle_bounds.items()):\n",
    "    s_min = obstacle_bound['s_min']\n",
    "    l_min = obstacle_bound['l_min']\n",
    "    s_max = obstacle_bound['s_max']\n",
    "    l_max = obstacle_bound['l_max']\n",
    "    plt.plot(s_min,l_min,'g')\n",
    "    plt.plot(s_max,l_max,'r')\n",
    "plt.show()"
   ]
  },
  {
   "cell_type": "markdown",
   "metadata": {},
   "source": [
    "### **1.3 Set up the optimization problem**"
   ]
  },
  {
   "cell_type": "code",
   "execution_count": 6,
   "metadata": {},
   "outputs": [],
   "source": [
    "# set up cvxpy variables\n",
    "n  = 4   # length of state vector (x1 = longitudinal displacement, x2 = lateral displacement, x3 = longitudinal speed, x4 = lateral speed)\n",
    "m  = 2   # length of input vector (u1 = longitudinal acceleration , u2 = lateral acceleration)\n",
    "x = cp.Variable(shape=(n,N+1)) # optimization vector x contains n states per time step \n",
    "u = cp.Variable(shape=(m, N)) # optimization vector u contains 1 state per time step \n",
    "\n",
    "# set up weights for cost function\n",
    "w_x_s = 0\n",
    "w_x_l = 10\n",
    "w_v_s = 10\n",
    "w_v_l = 0\n",
    "Q = np.eye(n)*np.transpose(np.array([w_x_s,\n",
    "                                     w_x_l,\n",
    "                                     w_v_s,\n",
    "                                     w_v_l\n",
    "                                     ]))\n",
    "w_a_s = 2\n",
    "w_a_l = 5\n",
    "R = np.eye(m)*np.transpose(np.array([w_a_s,\n",
    "                                     w_a_l\n",
    "                                     ]))"
   ]
  },
  {
   "cell_type": "code",
   "execution_count": 7,
   "metadata": {},
   "outputs": [],
   "source": [
    "# set up point mass model kinematics\n",
    "A = np.add(np.array([[0, 0, 1, 0],\n",
    "                     [0, 0, 0, 1],\n",
    "                     [0, 0, 0, 0],\n",
    "                     [0, 0, 0, 0]]) * dT, \n",
    "           np.eye(n)\n",
    "           )  \n",
    "B = np.array([[0, 0],\n",
    "              [0, 0],\n",
    "              [1, 0],\n",
    "              [0, 1]]) * dT   "
   ]
  },
  {
   "cell_type": "markdown",
   "metadata": {},
   "source": [
    "The point-mass kinematics:\n",
    "$$\n",
    "x_{k+1} = x_{k} + \\dot x_{k} \\Delta t \n",
    "$$\n",
    "where \n",
    "$$\n",
    "\\dot x_{k} = A x_{k} + B u_{k}\n",
    "$$\n",
    "\n",
    "where the state $x$ and action $u$ are:\n",
    "$$\n",
    "x = \\begin{bmatrix} s \\\\ l \\\\ \\dot s  \\\\ \\dot l \\end{bmatrix}\n",
    "$$\n",
    "$$\n",
    "u = \\begin{bmatrix} a_s \\\\ a_l  \\end{bmatrix}\n",
    "$$\n",
    "Hence,\n",
    "$$\n",
    "A = \\begin{bmatrix} 0 & 0 & 1 & 0 \\\\ 0 & 0 & 0 & 1 \\\\0 & 0 & 0 & 0 \\\\0 & 0 & 0 & 0 \\end{bmatrix}\n",
    "$$\n",
    "$$\n",
    "B = \\begin{bmatrix} 0 & 0 \\\\ 0 & 0 \\\\1 & 0  \\\\0 & 1 \\end{bmatrix}\n",
    "$$\n",
    "\n",
    "Hence, \n",
    "$$\n",
    "x_{k+1} = x_{k} + (A x_{k} + B u_{k})\\Delta t \n",
    "$$\n",
    "$$\n",
    "x_{k+1} = (I+A)\\Delta t x_{k}  + B \\Delta t u_{k} \n",
    "$$\n"
   ]
  },
  {
   "cell_type": "code",
   "execution_count": 8,
   "metadata": {},
   "outputs": [
    {
     "name": "stdout",
     "output_type": "stream",
     "text": [
      "x_0:\n",
      " [-20.   0.  26.   0.]\n"
     ]
    }
   ],
   "source": [
    "# the goal velocity (hard coded, from priori decision)\n",
    "v_ref = 40.0  \n",
    "# target lateral displacement of the left lane (hard coded, from priori decision)\n",
    "x_y_ref = 3.5 \n",
    "\n",
    "# get the initial state of the ego vehicle from the planning problem set\n",
    "planning_problem = list(planning_problem_set.planning_problem_dict.values())[0]\n",
    "initial_state = planning_problem.initial_state\n",
    "# initial state of vehicle for the optimization problem (lon position , lat position , lon speed, lat speed)\n",
    "x_0 = np.array([initial_state.position[0],\n",
    "                initial_state.position[1],\n",
    "                initial_state.velocity,\n",
    "                0.0]).reshape([n,])\n",
    "print('x_0:\\n', x_0)\n",
    "\n",
    "# the optimization problem\n",
    "cost = 0\n",
    "# initial state constraint\n",
    "constr = [x[:,0] == x_0]\n",
    "# velocity constraints\n",
    "point_mass_constr = [x[2,:] <= c.v_s_max, x[2,:] >= c.v_s_min]\n",
    "point_mass_constr += [x[3,:] <= c.v_l_max, x[3,:] >= c.v_l_min]\n",
    "# acceleration constraints\n",
    "constr.append(u[0, :] <= c.a_s_max)\n",
    "constr.append(u[0, :] >= c.a_s_min)\n",
    "constr.append(u[1, :] <= c.a_l_max)\n",
    "constr.append(u[1, :] >= c.a_l_min)\n",
    "\n",
    "\n",
    "for k in range(N):\n",
    "    cost += cp.quad_form((x[:,k+1] - np.array([0,x_y_ref,v_ref,0])), Q)\\\n",
    "           + cp.quad_form(u[:, k], R)\n",
    "    # time variant state and input constraints\n",
    "    constr.append(x[:,k+1] == A @ x[:,k] + B @ u[:, k])\n",
    "\n",
    "    # add obstacle constraint\n",
    "    for i, (obs_id, obstacle_bbox) in enumerate(obstacle_bounds.items()):\n",
    "        # here we are assuming that the obstacles are observed through out the N time steps with no missings,\n",
    "        # and there is only one dynamic obstacle.\n",
    "        s_min = obstacle_bbox['s_min']\n",
    "        l_min = obstacle_bbox['l_min']\n",
    "        s_max = obstacle_bbox['s_max']\n",
    "        l_max = obstacle_bbox['l_max']\n",
    "\n",
    "        # constraints for lane change decision (hard coded, from priori decision)\n",
    "        if k < 25:\n",
    "            constr.append(x[0,k+1] + ep.length / 2.0 <= s_min[k]) \n",
    "        if k > 25:\n",
    "            constr.append(x[1,k+1] - ep.width / 2.0 >= l_max[k]) \n",
    "            \n",
    "# Sums problem objectives and concatenates constraints.\n",
    "# create optimization problem\n",
    "prob = cp.Problem(cp.Minimize(cost), constr + point_mass_constr)"
   ]
  },
  {
   "cell_type": "markdown",
   "metadata": {},
   "source": [
    "### **1.4 Solve the problem**"
   ]
  },
  {
   "cell_type": "code",
   "execution_count": 9,
   "metadata": {},
   "outputs": [
    {
     "name": "stdout",
     "output_type": "stream",
     "text": [
      "Problem is convex:  True\n",
      "Problem solution is optimal\n"
     ]
    }
   ],
   "source": [
    "## Solve optimization problem.\n",
    "prob.solve(verbose=False)\n",
    "print(\"Problem is convex: \",prob.is_dcp())\n",
    "print(\"Problem solution is \"+prob.status)\n",
    "# print('x:')\n",
    "# print(x.value)\n",
    "# print('u:')\n",
    "# print(u.value)"
   ]
  },
  {
   "cell_type": "markdown",
   "metadata": {},
   "source": [
    "### **1.5 Plot problem result**\n",
    "#### From the plots we can see that the vehicle has a large lateral acceleraction($a_{l}$) in the first 10+ steps, taking the vehicle to the left lane. Then the vehicle begins to speed up to $40m/s$, which is the reference speed, to overtake the obstacle."
   ]
  },
  {
   "cell_type": "code",
   "execution_count": 10,
   "metadata": {},
   "outputs": [
    {
     "data": {
      "image/png": "[encoded data removed]",
      "text/plain": [
       "<Figure size 720x720 with 6 Axes>"
      ]
     },
     "metadata": {
      "needs_background": "light"
     },
     "output_type": "display_data"
    }
   ],
   "source": [
    "# plot results\n",
    "plt.figure(figsize=(10, 10))\n",
    "opt_utils.plot_state_vector(x, u, c)\n",
    "plt.show()"
   ]
  },
  {
   "cell_type": "markdown",
   "metadata": {},
   "source": [
    "### **1.6 Visualize solution**"
   ]
  },
  {
   "cell_type": "code",
   "execution_count": 11,
   "metadata": {},
   "outputs": [
    {
     "data": {
      "image/png": "[encoded data removed]",
      "text/plain": [
       "<Figure size 1800x720 with 1 Axes>"
      ]
     },
     "metadata": {
      "needs_background": "light"
     },
     "output_type": "display_data"
    }
   ],
   "source": [
    "x_result = x.value\n",
    "s_ego = x_result[0,:].flatten()\n",
    "l_ego = x_result[1,:].flatten()\n",
    "v_s_ego = x_result[2,:].flatten()\n",
    "v_l_ego = x_result[3,:].flatten()\n",
    "\n",
    "state_list = []\n",
    "# add init state first\n",
    "state_list.append(State(**{'position': initial_state.position, \n",
    "                           'orientation': initial_state.orientation,\n",
    "                           'time_step': 0, \n",
    "                           }))\n",
    "for i in range(1, N):\n",
    "    orientation = initial_state.orientation\n",
    "    # add new state to state_list    \n",
    "    state_list.append(State(**{'position': np.array([s_ego[i],l_ego[i]]), \n",
    "                               'orientation': math.atan2(v_l_ego[i], v_s_ego[i]),\n",
    "                               'time_step': i, \n",
    "                               }))\n",
    "\n",
    "# create the planned trajectory starting at time step 0\n",
    "ego_vehicle_trajectory = Trajectory(initial_time_step=0, state_list=state_list[0:])\n",
    "\n",
    "# create the prediction using the planned trajectory and the shape of the ego vehicle\n",
    "ego_vehicle_shape = Rectangle(length=ep.length, width=ep.width)\n",
    "ego_vehicle_prediction = TrajectoryPrediction(trajectory=ego_vehicle_trajectory,\n",
    "                                              shape=ego_vehicle_shape)\n",
    "\n",
    "# the ego vehicle can be visualized by converting it into a DynamicObstacle\n",
    "ego_vehicle_type = ObstacleType.CAR\n",
    "ego_vehicle = DynamicObstacle(obstacle_id=101, obstacle_type=ego_vehicle_type,\n",
    "                              obstacle_shape=ego_vehicle_shape, initial_state=initial_state,\n",
    "                              prediction=ego_vehicle_prediction)\n",
    "\n",
    "plt.ion()\n",
    "plt.figure(figsize=(25, 10))\n",
    "for i in range(0, N):\n",
    "    plt.figure(figsize=(25, 10))\n",
    "    display.clear_output(wait=True)\n",
    "    rnd = MPRenderer()\n",
    "    scenario.draw(rnd, draw_params={'time_begin': i})\n",
    "    ego_vehicle.draw(rnd, draw_params={'time_begin': i, 'dynamic_obstacle': {\n",
    "        'vehicle_shape': {'occupancy': {'shape': {'rectangle': {\n",
    "            'facecolor': 'g'}}}}}})\n",
    "    planning_problem_set.draw(rnd)\n",
    "    rnd.render()\n",
    "    plt.pause(0.1)\n"
   ]
  },
  {
   "cell_type": "markdown",
   "metadata": {},
   "source": [
    "***\n",
    " # **2. Linearized KST Model with Convex Optimization**\n",
    "***\n",
    "### In this example we utilize convex optimization to solve a slightly modified version of the problem above, but with a linearized <a href=\"https://gitlab.lrz.de/tum-cps/commonroad-vehicle-models/-/blob/master/vehicleModels_commonRoad.pdf\" target=\"_blank\">KST model</a>. \n",
    "### The priori decision is to \n",
    "* #### change to left lane;\n",
    "* #### follow the obstacle on the left lane."
   ]
  },
  {
   "cell_type": "markdown",
   "metadata": {},
   "source": [
    "### **2.1 Load scenario and visualize**"
   ]
  },
  {
   "cell_type": "code",
   "execution_count": 12,
   "metadata": {},
   "outputs": [],
   "source": [
    "## Load the CommonRoad scenario.\n",
    "file_path = 'tutorial/test_scenarios/itac_optimization_planner_example.xml'\n",
    "scenario, planning_problem_set = CommonRoadFileReader(file_path).open()\n",
    "\n",
    "# problem dimensions\n",
    "N  = 50  # number of time steps\n",
    "dT = scenario.dt  # time step"
   ]
  },
  {
   "cell_type": "markdown",
   "metadata": {},
   "source": [
    "### **2.2 Add another dynamic obstacle into the scenario**\n"
   ]
  },
  {
   "cell_type": "code",
   "execution_count": 13,
   "metadata": {},
   "outputs": [
    {
     "data": {
      "image/png": "[encoded data removed]",
      "text/plain": [
       "<Figure size 1800x720 with 1 Axes>"
      ]
     },
     "metadata": {
      "needs_background": "light"
     },
     "output_type": "display_data"
    }
   ],
   "source": [
    "## Add another dynamic obstacle for more fun.\n",
    "# initial state has a time step of 0\n",
    "dynamic_obstacle_initial_state = State(position = np.array([20.0, 3.5]),\n",
    "                                       velocity = 28,\n",
    "                                       orientation = 0.02,\n",
    "                                       time_step = 0)\n",
    "\n",
    "# generate the states for the obstacle for time steps 1 to N by constant velocity\n",
    "state_list = []\n",
    "for i in range(1, N+1):\n",
    "    # compute new position\n",
    "    new_position = np.array([dynamic_obstacle_initial_state.position[0] + scenario.dt * i * 22, 3.5])\n",
    "    # create new state\n",
    "    new_state = State(position = new_position, velocity = 22,orientation = 0.0, time_step = i)\n",
    "    # add new state to state_list\n",
    "    state_list.append(new_state)\n",
    "\n",
    "# create the trajectory of the obstacle, starting at time step 1\n",
    "dynamic_obstacle_trajectory = Trajectory(1, state_list)\n",
    "\n",
    "# create the prediction using the trajectory and the shape of the obstacle\n",
    "dynamic_obstacle_shape = Rectangle(width = 1.8, length = 4.3)\n",
    "dynamic_obstacle_prediction = TrajectoryPrediction(dynamic_obstacle_trajectory, dynamic_obstacle_shape)\n",
    "\n",
    "# generate the dynamic obstacle according to the specification\n",
    "dynamic_obstacle_id = 101\n",
    "dynamic_obstacle_type = ObstacleType.CAR\n",
    "dynamic_obstacle = DynamicObstacle(dynamic_obstacle_id,\n",
    "                                   dynamic_obstacle_type,\n",
    "                                   dynamic_obstacle_shape,\n",
    "                                   dynamic_obstacle_initial_state,\n",
    "                                   dynamic_obstacle_prediction)\n",
    "\n",
    "# add dynamic obstacle to the scenario\n",
    "scenario.add_objects(dynamic_obstacle)\n",
    "\n",
    "\n",
    "## Plot the scenario for each time step.\n",
    "plt.ion()\n",
    "plt.figure(figsize=(25, 10))\n",
    "for i in range(0, N):\n",
    "    plt.figure(figsize=(25, 10))\n",
    "    display.clear_output(wait=True)\n",
    "    rnd = MPRenderer()\n",
    "    scenario.draw(rnd, draw_params={'time_begin': i})\n",
    "    planning_problem_set.draw(rnd)\n",
    "    rnd.render()\n",
    "    plt.pause(0.1)"
   ]
  },
  {
   "cell_type": "markdown",
   "metadata": {},
   "source": [
    "### **2.3 Extract obstacle from scenario**"
   ]
  },
  {
   "cell_type": "code",
   "execution_count": 14,
   "metadata": {},
   "outputs": [
    {
     "data": {
      "image/png": "[encoded data removed]",
      "text/plain": [
       "<Figure size 1800x216 with 1 Axes>"
      ]
     },
     "metadata": {
      "needs_background": "light"
     },
     "output_type": "display_data"
    }
   ],
   "source": [
    "## Get longitudinal and lateral positions of dynamic obstacles in each time step, \n",
    "## here we are assuming that the obstacles are observed through out the N time steps with no missings.\n",
    "dyn_obstacles = scenario.dynamic_obstacles\n",
    "obstacle_bounds = {}\n",
    "for o in dyn_obstacles:\n",
    "    prediction = o.prediction.trajectory.state_list\n",
    "    obs_id = o.obstacle_id\n",
    "    obstacle_bound = {\n",
    "        's_min': [],\n",
    "        'l_min': [],\n",
    "        's_max': [],\n",
    "        'l_max': []\n",
    "    }\n",
    "    for i, p in enumerate(prediction):\n",
    "        obstacle_bound['s_min'].append(p.position[0]-o.obstacle_shape.length/2.-15) # hard coded distances\n",
    "        obstacle_bound['l_min'].append(p.position[1]-o.obstacle_shape.width/2. - 1)\n",
    "        obstacle_bound['s_max'].append(p.position[0]+o.obstacle_shape.length/2.+15)\n",
    "        obstacle_bound['l_max'].append(p.position[1]+o.obstacle_shape.width/2. + 1)\n",
    "    obstacle_bounds[obs_id] = obstacle_bound\n",
    "    \n",
    "    \n",
    "## Plot bbox motions.\n",
    "plt.figure(figsize=(25, 3))\n",
    "for i, (obs_id, obstacle_bound) in enumerate(obstacle_bounds.items()):\n",
    "    s_min = obstacle_bound['s_min']\n",
    "    l_min = obstacle_bound['l_min']\n",
    "    s_max = obstacle_bound['s_max']\n",
    "    l_max = obstacle_bound['l_max']\n",
    "    plt.plot(s_min,l_min,'g')\n",
    "    plt.plot(s_max,l_max,'r')\n",
    "plt.show()"
   ]
  },
  {
   "cell_type": "markdown",
   "metadata": {},
   "source": [
    "### **2.4 Optimize lateral waypoints**"
   ]
  },
  {
   "cell_type": "markdown",
   "metadata": {},
   "source": [
    "#### **2.4.1 Set up the optimization problem**"
   ]
  },
  {
   "cell_type": "code",
   "execution_count": 15,
   "metadata": {},
   "outputs": [
    {
     "name": "stdout",
     "output_type": "stream",
     "text": [
      "x0:\n",
      " [0. 0. 0. 0.]\n"
     ]
    }
   ],
   "source": [
    "n  = 4   # length of state vector (x1 = lateral displacement, x2 = tractor yaw, x3 = steering angle, x4 = hitch angle)\n",
    "m  = 1   # length of input vector (u1 = steering speed)\n",
    "x = cp.Variable(shape=(n,N+1)) # optimization vector x contains n states per time step \n",
    "u = cp.Variable(shape=(m, N)) # optimization vector u contains 1 state\n",
    "    \n",
    "# get ego parameters\n",
    "ep = opt_utils.EgoParametersKST()\n",
    "\n",
    "# set up constraints\n",
    "c = opt_utils.ConstraintsKST()\n",
    "c.x_s_min = -30  # feasible x displacement of vehicle\n",
    "c.x_s_max = 200  # feasible x displacement of vehicle\n",
    "c.x_l_min = -7 # feasible y displacement of vehicle\n",
    "c.x_l_max = 7 # feasible y displacement of vehicle\n",
    "\n",
    "# set up weights for cost function\n",
    "w_x_l = 0.8\n",
    "w_theta = 1000\n",
    "w_phi = 1000\n",
    "w_psi = 1\n",
    "Q = np.eye(n)*np.transpose(np.array([w_x_l,\n",
    "                                     w_theta,\n",
    "                                     w_phi,\n",
    "                                     w_psi\n",
    "                                     ]))\n",
    "w_omega = 100\n",
    "R = np.eye(m)*np.transpose(np.array([w_omega\n",
    "                                     ]))\n",
    "\n",
    "# get the initial state of the ego vehicle from the planning problem set\n",
    "planning_problem = list(planning_problem_set.planning_problem_dict.values())[0]\n",
    "initial_state = planning_problem.initial_state\n",
    "\n",
    "# reference velocity\n",
    "v0 = initial_state.velocity\n",
    "# initial state of vehicle for the optimization problem (lon position , lat position , lon speed, lat speed)\n",
    "x0 = np.array([initial_state.position[1],\n",
    "               initial_state.orientation,\n",
    "               0.0,\n",
    "               0.0\n",
    "              ]).reshape([n,])\n",
    "print('x0:\\n', x0)\n",
    "\n",
    "\n",
    "# set up tractor-trailer kinematics\n",
    "A = np.add(\n",
    "            np.array([[0, v0, 0, 0],\n",
    "                      [0, 0, v0/ep.l_wb, 0],\n",
    "                      [0, 0, 0, 0],\n",
    "                      [0, 0, -v0/ep.l_wb, -v0/ep.l_wbt]]) * dT, \n",
    "            np.eye(n)\n",
    "            )\n",
    "B = np.array([[0],\n",
    "              [0],\n",
    "              [1],\n",
    "              [0]]) * dT "
   ]
  },
  {
   "cell_type": "markdown",
   "metadata": {},
   "source": [
    "The state and input we defined are:\n",
    "$$\n",
    "x = [ l , \\Psi ,  \\delta  , \\alpha ]^{T}\n",
    "$$\n",
    "$$u = v_{\\delta}$$\n",
    "\n",
    "according to KST kinematic, we have:\n",
    "$$\n",
    "\\dot x = [v \\sin{\\Psi}, \\frac{v}{l_{wb}}\\tan(\\delta), v_{\\delta}, -v(\\frac{\\sin{\\alpha}}{l_{wb_{t}}} + \\frac{\\tan{\\delta}}{l_{wb}})]^{T}\n",
    "$$\n",
    "In order to linearize this, we make two assumptions:\n",
    "1. $v$ is constant,\n",
    "2. In highway scenario, $\\delta$, $\\alpha$ and $\\Psi$ are small.\n",
    "\n",
    " Hence,\n",
    " $$\n",
    "\\dot x = [v \\Psi, \\frac{v}{l_{wb}}\\delta, v_{\\delta}, -v(\\frac{\\alpha}{l_{wb_{t}}} + \\frac{\\delta}{l_{wb}})]^{T}\n",
    "$$\n",
    " Now we have:\n",
    "$$\n",
    "\\dot x_{k} = A x_{k} + B u_{k}\n",
    "$$\n",
    "where,\n",
    "$$\n",
    "A = \\begin{bmatrix} 0 & v & 0 & 0 \\\\ 0 & 0 & \\frac{v}{l_{wb}} & 0 \\\\0 & 0 & 0 & 0 \\\\0 & 0 & -\\frac{v}{l_{wb}} & -\\frac{v}{l_{wb_{t}}} \\end{bmatrix}\n",
    "$$\n",
    "$$\n",
    "B = \\begin{bmatrix} 0  \\\\ 0 \\\\1  \\\\0 \\end{bmatrix}\n",
    "$$\n",
    "Finally we have the linearized version of kinematic:\n",
    "$$\n",
    "x_{k+1} = x_{k} + (A x_{k} + B u_{k})\\Delta t \n",
    "$$\n"
   ]
  },
  {
   "cell_type": "code",
   "execution_count": 16,
   "metadata": {},
   "outputs": [],
   "source": [
    "# target lateral displacement of the left lane (hard coded, from priori decision)\n",
    "x_l_ref = 3.5\n",
    "\n",
    "# the optimization problem\n",
    "cost = 0\n",
    "# initial state constraint\n",
    "constr = [x[:,0] == x0]\n",
    "# constraints\n",
    "KST_constr = [x[1,:] <= c.yaw_max, x[1,:] >= c.yaw_min]\n",
    "KST_constr += [x[2,:] <= c.steer_max, x[2,:] >= c.steer_min]\n",
    "KST_constr += [x[3,:] <= c.hitch_angle_max, x[3,:] >= c.hitch_angle_min]\n",
    "KST_constr += [u[0, :] <= c.steer_v_max]\n",
    "KST_constr += [u[0, :] >= c.steer_v_min]\n",
    "\n",
    "for k in range(N):\n",
    "    cost += cp.quad_form((x[:,k+1] - np.array([x_l_ref,0,0,0])), Q)\\\n",
    "           + cp.quad_form(u[:, k], R) \n",
    "    # time variant state and input constraints\n",
    "    constr.append(x[:,k+1] == A @ x[:,k] + B @ u[:, k])\n",
    "\n",
    "    # add obstacle constraint\n",
    "    for i, (obs_id, obstacle_bbox) in enumerate(obstacle_bounds.items()):\n",
    "        # here we are assuming that the obstacles are observed through out the N time steps with no missings,\n",
    "        # and there is only one dynamic obstacle.\n",
    "        s_min = obstacle_bbox['s_min']\n",
    "        l_min = obstacle_bbox['l_min']\n",
    "        s_max = obstacle_bbox['s_max']\n",
    "        l_max = obstacle_bbox['l_max']\n",
    "        # constraints for lane change: change to left lane after timestep 25 (hard coded, from priori decision)\n",
    "        if obs_id == 100:\n",
    "            if k > 25:\n",
    "                constr.append(x[0,k+1] - ep.tractor_w / 2.0 >= l_max[k]) \n",
    "\n",
    "\n",
    "## Sums problem objectives and concatenates constraints.\n",
    "# create optimization problem\n",
    "prob = cp.Problem(cp.Minimize(cost), constr + KST_constr)"
   ]
  },
  {
   "cell_type": "markdown",
   "metadata": {},
   "source": [
    "#### **2.4.2 Solve the lateral planning problem**"
   ]
  },
  {
   "cell_type": "code",
   "execution_count": 17,
   "metadata": {},
   "outputs": [
    {
     "name": "stdout",
     "output_type": "stream",
     "text": [
      "Problem is convex:  True\n",
      "Problem solution is optimal\n"
     ]
    }
   ],
   "source": [
    "## Solve optimization problem.\n",
    "prob.solve(verbose=False)\n",
    "print(\"Problem is convex: \",prob.is_dcp())\n",
    "print(\"Problem solution is \"+prob.status)\n",
    "# print('x:')\n",
    "# print(x.value)\n",
    "# print('u:')\n",
    "# print(u.value)"
   ]
  },
  {
   "cell_type": "markdown",
   "metadata": {},
   "source": [
    "#### **2.4.3 Plot the result**\n",
    "#### From the plots we can see that the vehicle steers to the left($v_{\\delta}$) in the first 10 steps, taking the vehicle to the left lane. You can see the effect of this steering input on the vehicle states ($l$, $\\Psi$, $\\delta$ and $\\alpha$)."
   ]
  },
  {
   "cell_type": "code",
   "execution_count": 18,
   "metadata": {},
   "outputs": [
    {
     "data": {
      "image/png": "[encoded data removed]",
      "text/plain": [
       "<Figure size 720x720 with 5 Axes>"
      ]
     },
     "metadata": {
      "needs_background": "light"
     },
     "output_type": "display_data"
    }
   ],
   "source": [
    "# plot results\n",
    "plt.figure(figsize=(10, 10))\n",
    "opt_utils.plot_state_vector_kst(x, u, c)\n",
    "\n",
    "x_result = x.value"
   ]
  },
  {
   "cell_type": "markdown",
   "metadata": {},
   "source": [
    "### **2.5 Optimize longitudinal displacement and speed**"
   ]
  },
  {
   "cell_type": "markdown",
   "metadata": {},
   "source": [
    "#### **2.5.1 Set up the optimization problem**"
   ]
  },
  {
   "cell_type": "code",
   "execution_count": 19,
   "metadata": {},
   "outputs": [],
   "source": [
    "# problem dimensions\n",
    "n_lon  = 2   # length of state vector (x1 = longitudinal displacement, x2 = longitudinal speed)\n",
    "m_lon  = 1   # length of input vector (u1 = longitudinal acceleration)\n",
    "\n",
    "\n",
    "## Set up the optimization problem.\n",
    "# set up cvxpy variables\n",
    "x_lon = cp.Variable(shape=(n_lon,N+1))\n",
    "u_lon = cp.Variable(shape=(m_lon, N))\n",
    "# set up weights for cost function\n",
    "w_x_s = 0\n",
    "w_v_s = 10\n",
    "Q_lon = np.eye(n_lon)*np.transpose(np.array([w_x_s,\n",
    "                                             w_v_s\n",
    "                                            ]))\n",
    "w_a_s = 10\n",
    "R_lon = np.eye(m_lon)*np.transpose(np.array([w_a_s\n",
    "                                            ]))\n",
    "# initial state of vehicle for the optimization problem (longitudinal position, longitudinal speed)\n",
    "x0_lon = np.array([initial_state.position[0],\n",
    "                  v0\n",
    "                  ]).reshape([n_lon,])\n",
    "# set up point mass model kinematics\n",
    "A_lon = np.add(\n",
    "            np.array([[0, 1],\n",
    "                      [0, 0]\n",
    "                      ]) * dT, \n",
    "            np.eye(n_lon)\n",
    "            )\n",
    "B_lon = np.array([[0],\n",
    "                  [1],\n",
    "                 ]) * dT "
   ]
  },
  {
   "cell_type": "markdown",
   "metadata": {},
   "source": [
    "The state and action we defined are:\n",
    "$$\n",
    "x = [ l , \\dot l]^{T}\n",
    "$$\n",
    "$$u = a_{l}$$\n",
    "\n",
    "\n",
    "Similary we have:\n",
    "$$\n",
    "\\dot x_{k} = A x_{k} + B u_{k}\n",
    "$$\n",
    "where,\n",
    "$$\n",
    "A = \\begin{bmatrix} 0 & 1 \\\\ 0 & 0  \\end{bmatrix}\n",
    "$$\n",
    "$$\n",
    "B = \\begin{bmatrix} 0  \\\\ 1 \\end{bmatrix}\n",
    "$$"
   ]
  },
  {
   "cell_type": "code",
   "execution_count": 20,
   "metadata": {},
   "outputs": [],
   "source": [
    "# the optimization problem\n",
    "cost_lon = 0\n",
    "# initial state constraint\n",
    "constr_lon = [x_lon[:,0] == x0_lon]\n",
    "# velocity constraints\n",
    "c.v_s_max = 30 # hard coded feasible longitudinal speed\n",
    "KST_constr_lon = [x_lon[1,:] <= c.v_s_max, x_lon[1,:] >= c.v_s_min]\n",
    "# add kinematic constraints and calculate cost\n",
    "for k in range(N):\n",
    "    cost_lon += cp.quad_form((x_lon[:,k+1] - np.array([0,c.v_s_max])), Q_lon)\\\n",
    "           + cp.quad_form(u_lon[:, k], R_lon)\n",
    "    # time variant state and input constraints\n",
    "    constr_lon.append(x_lon[:,k+1] == A_lon @ x_lon[:,k] + B_lon @ u_lon[:, k])\n",
    "    constr_lon.append(u_lon[0, k] <= c.a_s_max)\n",
    "    constr_lon.append(u_lon[0, k] >= c.a_s_min)\n",
    "    # add obstacle constraint\n",
    "    for i, (obs_id, obstacle_bound) in enumerate(obstacle_bounds.items()):\n",
    "        # here we are assuming that the obstacles are observed through out the N time steps with no missings,\n",
    "        # and there is only one dynamic obstacle.\n",
    "        s_min = obstacle_bound['s_min']\n",
    "        l_min = obstacle_bound['l_min']\n",
    "        s_max = obstacle_bound['s_max']\n",
    "        l_max = obstacle_bound['l_max']\n",
    "        if obs_id == 100: # do not overtake obstacle 100 until timestep 25 (hard coded, from priori decision)\n",
    "            if k < 25:\n",
    "                constr_lon.append(x_lon[0,k] + ep.tractor_l / 2.0 <= s_min[k]) \n",
    "        if obs_id == 101: # allways follow obstacle 101 (hard coded, from priori decision)\n",
    "            constr_lon.append(x_lon[0,k] + ep.tractor_l / 2.0 <= s_min[k]) \n",
    "\n",
    "\n",
    "## Sums problem objectives and concatenates constraints.\n",
    "# create optimization problem\n",
    "prob_lon = cp.Problem(cp.Minimize(cost_lon), constr_lon + KST_constr_lon)"
   ]
  },
  {
   "cell_type": "markdown",
   "metadata": {},
   "source": [
    "#### **2.5.2 Solve the longitudinal planning problem**"
   ]
  },
  {
   "cell_type": "code",
   "execution_count": 21,
   "metadata": {},
   "outputs": [
    {
     "name": "stdout",
     "output_type": "stream",
     "text": [
      "Problem is convex:  True\n",
      "Problem solution is optimal\n"
     ]
    }
   ],
   "source": [
    "## Solve optimization problem.\n",
    "prob_lon.solve(verbose=False)\n",
    "print(\"Problem is convex: \",prob_lon.is_dcp())\n",
    "print(\"Problem solution is \"+prob_lon.status)\n",
    "# print('x:')\n",
    "# print(x_lon.value)\n",
    "# print('u:')\n",
    "# print(u_lon.value)"
   ]
  },
  {
   "cell_type": "markdown",
   "metadata": {},
   "source": [
    "#### **2.5.3 Plot the result**"
   ]
  },
  {
   "cell_type": "code",
   "execution_count": 22,
   "metadata": {},
   "outputs": [
    {
     "data": {
      "image/png": "[encoded data removed]",
      "text/plain": [
       "<Figure size 432x288 with 3 Axes>"
      ]
     },
     "metadata": {
      "needs_background": "light"
     },
     "output_type": "display_data"
    }
   ],
   "source": [
    "opt_utils.plot_state_vector_lon_kst(x_lon, u_lon, c)\n",
    "x_result_lon = x_lon.value"
   ]
  },
  {
   "cell_type": "markdown",
   "metadata": {},
   "source": [
    "### **2.6 Extract, save and visualize the solution for tractor and trailer**\n"
   ]
  },
  {
   "cell_type": "markdown",
   "metadata": {},
   "source": [
    "#### We need the bounding box center coordinates of the tractor and the trailer for visualization.\n"
   ]
  },
  {
   "cell_type": "code",
   "execution_count": 23,
   "metadata": {},
   "outputs": [],
   "source": [
    "tractor_rear_to_tractor_center = ep.l_total - ep.l_hitch - ep.tractor_l / 2\n",
    "tractor_rear_to_trailer_center = - ep.l_hitch + ep.trailer_l - ep.trailer_l / 2\n",
    "def extract_and_derive_tractor_trailer_states_from_x_results(x_result, x_result_lon):\n",
    "    result = {}\n",
    "    tractor_rear_axis_x = x_result_lon[0,:].flatten()\n",
    "    tractor_rear_axis_y = x_result[0,:].flatten()\n",
    "    result['tractor_orientation'] = x_result[1,:].flatten()\n",
    "    \n",
    "    result['tractor_box_x'] = np.asarray([\n",
    "        tractor_rear_axis_x[i] + tractor_rear_to_tractor_center * math.cos(result['tractor_orientation'][i]) \n",
    "        for i in range(N)])\n",
    "    \n",
    "    result['tractor_box_y'] = np.asarray([\n",
    "        tractor_rear_axis_y[i] + tractor_rear_to_tractor_center * math.sin(result['tractor_orientation'][i]) \n",
    "        for i in range(N)])  \n",
    "    \n",
    "    result['tractor_steer'] = x_result[2,:].flatten()\n",
    "    result['hitch_angle'] = x_result[3,:].flatten()\n",
    "    result['tractor_vel'] = x_result_lon[1,:].flatten()\n",
    "    \n",
    "    result['trailer_box_x'] = np.asarray([\n",
    "        tractor_rear_axis_x[i] + tractor_rear_to_trailer_center * math.cos(result['tractor_orientation'][i] + result['hitch_angle'][i])\n",
    "        for i in range(N)])\n",
    "    \n",
    "    result['trailer_box_y'] = np.asarray([\n",
    "        tractor_rear_axis_y[i] + tractor_rear_to_trailer_center * math.sin(result['tractor_orientation'][i] + result['hitch_angle'][i])\n",
    "        for i in range(N)])\n",
    "\n",
    "    return result\n",
    "\n",
    "state_dic = extract_and_derive_tractor_trailer_states_from_x_results(x_result, x_result_lon)"
   ]
  },
  {
   "cell_type": "markdown",
   "metadata": {},
   "source": [
    "#### Create a DynamicObstacle of tractor for visualization."
   ]
  },
  {
   "cell_type": "code",
   "execution_count": 24,
   "metadata": {},
   "outputs": [],
   "source": [
    "## tractor\n",
    "state_list = []\n",
    "# add init state first\n",
    "state_list.append(State(**{'position': np.array([initial_state.position[0]  + tractor_rear_to_tractor_center * np.cos(initial_state.orientation), \n",
    "                                                 initial_state.position[1]  + tractor_rear_to_tractor_center * np.sin(initial_state.orientation)]),\n",
    "                           'orientation': initial_state.orientation,\n",
    "                           'time_step': 0, \n",
    "                           }))\n",
    "for i in range(1, N):\n",
    "    # add new state to state_list    \n",
    "    state_list.append(State(**{'position': np.array([state_dic['tractor_box_x'][i],state_dic['tractor_box_y'][i]]), \n",
    "                               'orientation': state_dic['tractor_orientation'][i],\n",
    "                               'time_step': i, \n",
    "                               }))\n",
    "# create the planned trajectory starting at time step 0\n",
    "tractor_trajectory = Trajectory(initial_time_step=0, state_list=state_list[0:])\n",
    "# create the prediction using the planned trajectory and the shape of the tractor\n",
    "tractor_shape = Rectangle(length=vehicle4.l, width=vehicle4.w)\n",
    "tractor_prediction = TrajectoryPrediction(trajectory=tractor_trajectory,\n",
    "                                              shape=tractor_shape)\n",
    "# the tractor can be visualized by converting it into a DynamicObstacle\n",
    "tractor_type = ObstacleType.TRUCK\n",
    "tractor = DynamicObstacle(obstacle_id=102, obstacle_type=tractor_type,\n",
    "                              obstacle_shape=tractor_shape, initial_state=initial_state,\n",
    "                              prediction=tractor_prediction)"
   ]
  },
  {
   "cell_type": "markdown",
   "metadata": {},
   "source": [
    "#### Create a DynamicObstacle of trailer for visualization."
   ]
  },
  {
   "cell_type": "code",
   "execution_count": 25,
   "metadata": {},
   "outputs": [],
   "source": [
    "## treat trailer as another DynamicObstacle just for visualization              \n",
    "trailer_initial_state = copy.deepcopy(initial_state)\n",
    "trailer_initial_state.position = [initial_state.position[0] \\\n",
    "                                        + tractor_rear_to_trailer_center * math.cos(initial_state.orientation + initial_state.hitch_angle),\n",
    "                                    initial_state.position[1] \\\n",
    "                                        + tractor_rear_to_trailer_center * math.sin(initial_state.orientation + initial_state.hitch_angle)\n",
    "                                 ]\n",
    "state_list = []\n",
    "# add init state first\n",
    "state_list.append(State(**{'position': trailer_initial_state.position, \n",
    "                           'orientation': trailer_initial_state.orientation + trailer_initial_state.hitch_angle,\n",
    "                           'time_step': 0, \n",
    "                           }))\n",
    "for i in range(1, N):\n",
    "    # add new state to state_list    \n",
    "    state_list.append(State(**{'position': np.array([state_dic['trailer_box_x'][i],state_dic['trailer_box_y'][i]]), \n",
    "                               'orientation': state_dic['tractor_orientation'][i] + state_dic['hitch_angle'][i],\n",
    "                               'time_step': i, \n",
    "                               }))\n",
    "# create the planned trajectory starting at time step 0\n",
    "trailer_trajectory = Trajectory(initial_time_step=0, state_list=state_list[0:])\n",
    "# create the prediction using the planned trajectory and the shape of the trailer\n",
    "trailer_shape = Rectangle(length=ep.trailer_l,\n",
    "                          width=ep.trailer_w)\n",
    "trailer_prediction = TrajectoryPrediction(trajectory=trailer_trajectory,\n",
    "                                              shape=trailer_shape)\n",
    "# the trailer can be visualized by converting it into a DynamicObstacle\n",
    "trailer = DynamicObstacle(obstacle_id=103, obstacle_type=tractor_type,\n",
    "                              obstacle_shape=trailer_shape, initial_state=trailer_initial_state,\n",
    "                              prediction=trailer_prediction)"
   ]
  },
  {
   "cell_type": "markdown",
   "metadata": {},
   "source": [
    "#### Visualization"
   ]
  },
  {
   "cell_type": "code",
   "execution_count": 26,
   "metadata": {},
   "outputs": [
    {
     "data": {
      "image/png": "[encoded data removed]",
      "text/plain": [
       "<Figure size 1800x720 with 1 Axes>"
      ]
     },
     "metadata": {
      "needs_background": "light"
     },
     "output_type": "display_data"
    }
   ],
   "source": [
    "plt.ion()\n",
    "plt.figure(figsize=(25, 10))\n",
    "for i in range(0, N):\n",
    "    plt.figure(figsize=(25, 10))\n",
    "    display.clear_output(wait=True)\n",
    "    rnd = MPRenderer()\n",
    "    scenario.draw(rnd, draw_params={'time_begin': i})\n",
    "    tractor.draw(rnd, draw_params={'time_begin': i, 'dynamic_obstacle': {\n",
    "        'vehicle_shape': {'occupancy': {'shape': {'rectangle': {\n",
    "            'facecolor': 'slategrey'}}}}}})\n",
    "    trailer.draw(rnd, draw_params={'time_begin': i, 'dynamic_obstacle': {\n",
    "        'vehicle_shape': {'occupancy': {'shape': {'rectangle': {\n",
    "            'facecolor': 'darkviolet'}}}}}})\n",
    "    planning_problem_set.draw(rnd)\n",
    "    rnd.render()\n",
    "    plt.pause(0.1)"
   ]
  },
  {
   "cell_type": "markdown",
   "metadata": {},
   "source": [
    "***\n",
    " # **3. SEMI_TRAILER Model with Nonlinear Optimization**\n",
    "***\n",
    "### In section 2, we rely on a priori decision so that we can convert the planning problem into a convex optimization problem, meaning that we have to hand-tune the planner for every scenario. To avoid hand-tuning, it is common to design a decision module to generate decisions for every scenario in real world planners.\n",
    "### However, what if we want a 'universal' planner that is capable to generate feasible trajectories for most scenarios without a decision module? Though uncommon, generally more complicated and time-consuming, this is achievable if we utilize nonlinear optimization.\n",
    "### In this section, we will lose the priori decision and use nonlinear optimization to solve the problems with SEMI_TRAILER model with the help of <a href=\"https://web.casadi.org/\" target=\"_blank\">CasADi</a>.\n"
   ]
  },
  {
   "cell_type": "code",
   "execution_count": 27,
   "metadata": {},
   "outputs": [],
   "source": [
    "import casadi as ca\n",
    "from itac.vehiclemodels.parameters_semi_trailer import parameters_semi_trailer\n",
    "import optimization_planner_example_utils as opt_utils"
   ]
  },
  {
   "cell_type": "markdown",
   "metadata": {},
   "source": [
    "### **3.1 Get SEMI_TRAILER constraints and parameters**"
   ]
  },
  {
   "cell_type": "code",
   "execution_count": 28,
   "metadata": {},
   "outputs": [],
   "source": [
    "vehicle_SMT = parameters_semi_trailer()\n",
    "default_scenario_length = 300\n",
    "\n",
    "## Semi-trailer constraints.\n",
    "class ConstraintsSMT: \n",
    "    v_s_min = vehicle_SMT.longitudinal.v_min  # feasible min longitudinal velocity\n",
    "    v_s_max = vehicle_SMT.longitudinal.v_max # feasible max longitudinal velocity\n",
    "\n",
    "    a_s_min =  -vehicle_SMT.longitudinal.a_max # feasible min longitudinal acceleration\n",
    "    a_s_max =  vehicle_SMT.longitudinal.a_max # feasible max longitudinal acceleration\n",
    "\n",
    "    steer_min = vehicle_SMT.steering.min  # minimum steering angle [rad]\n",
    "    steer_max = vehicle_SMT.steering.max  # maximum steering angle [rad]\n",
    "    steer_v_min = vehicle_SMT.steering.v_min  # minimum steering velocity [rad/s]\n",
    "    steer_v_max = vehicle_SMT.steering.v_max  # maximum steering velocity [rad/s]\n",
    "\n",
    "    yaw_min = -np.pi / 2 # minimum tractor orientation in frenet coordinate sytem [rad]\n",
    "    yaw_max = np.pi / 2 # maximum tractor orientation in frenet coordinate sytem [rad]\n",
    "\n",
    "    hitch_angle_min = -np.pi / 2 # minimum angle between tractor and trailer [rad]\n",
    "    hitch_angle_max = np.pi / 2 # maximum angle between tractor and trailer [rad]\n",
    "\n",
    "## Semi-trailer parameters.\n",
    "class EgoParameters:\n",
    "    tractor_l = vehicle_SMT.l\n",
    "    tractor_w = vehicle_SMT.w\n",
    "    # tractor wheelbase\n",
    "    l_wb = vehicle_SMT.a + vehicle_SMT.b\n",
    "    # trailer parameters\n",
    "    trailer_l = vehicle_SMT.trailer.l  # trailer length\n",
    "    trailer_w = vehicle_SMT.trailer.w  # trailer width\n",
    "    l_hitch = vehicle_SMT.trailer.l_hitch  # hitch length\n",
    "    l_total = vehicle_SMT.trailer.l_total  # total system length\n",
    "    l_wbt = vehicle_SMT.trailer.l_wb  # trailer wheelbase\n",
    "\n",
    "# get ego parameters\n",
    "ep = EgoParameters()\n",
    "# set up constraints\n",
    "c = ConstraintsSMT()"
   ]
  },
  {
   "cell_type": "markdown",
   "metadata": {},
   "source": [
    "### **3.2 Load scenario and visualize**\n",
    "#### This is a highway lane change scenario, the goal is on the left lane."
   ]
  },
  {
   "cell_type": "code",
   "execution_count": 29,
   "metadata": {},
   "outputs": [
    {
     "data": {
      "image/png": "[encoded data removed]",
      "text/plain": [
       "<Figure size 1800x720 with 1 Axes>"
      ]
     },
     "metadata": {
      "needs_background": "light"
     },
     "output_type": "display_data"
    }
   ],
   "source": [
    "## Load the CommonRoad scenario.\n",
    "file_path = 'scenarios/highway/CHN_LC-1_1_T-1.xml'\n",
    "N = 65 # hard coded here.\n",
    "scenario, planning_problem_set = CommonRoadFileReader(file_path).open()\n",
    "## Plot the scenario for each time step.\n",
    "plt.ion()\n",
    "plt.figure(figsize=(25, 10))\n",
    "for i in range(0, N):\n",
    "    plt.figure(figsize=(25, 10))\n",
    "    display.clear_output(wait=True)\n",
    "    rnd = MPRenderer()\n",
    "    window_size = 150\n",
    "    rnd.plot_limits = [-window_size,\n",
    "                        window_size, -window_size, window_size]\n",
    "    scenario.draw(rnd, draw_params={\n",
    "        'time_begin': i, 'focus_obstacle_id': scenario.dynamic_obstacles[0].obstacle_id})\n",
    "    scenario.draw(rnd, draw_params={'time_begin': i})\n",
    "    planning_problem_set.draw(rnd)\n",
    "    rnd.render()\n",
    "    plt.pause(0.1)"
   ]
  },
  {
   "cell_type": "markdown",
   "metadata": {},
   "source": [
    "### **3.3 Extract obstacle from scenario**\n",
    "#### Here we fill the dynamic obstalces with spheres along their longitudinal directions for **a dummy collision check**. The blue rectangle is a dynamic obstacle and the yellow spheres are to replace the rectangle as the obstacle's collision volume. \n",
    "![ds](pics/simple_collision_check.png)\n",
    "\n",
    "#### **Please be noted that** in this section, we are neglecting the lane boundaries, which are supposed to be handled in your planners."
   ]
  },
  {
   "cell_type": "code",
   "execution_count": 30,
   "metadata": {},
   "outputs": [],
   "source": [
    "## Get dynamic obstacles info in each time step.\n",
    "dyn_obstacles = scenario.dynamic_obstacles\n",
    "obstacle_info = {}\n",
    "for o in dyn_obstacles:\n",
    "    obs_id = str(o.obstacle_id)\n",
    "    if obs_id not in obstacle_info.keys():\n",
    "        obstacle_info[obs_id] = {}\n",
    "        obstacle_info[obs_id]['initial_time_step'] = o.prediction.initial_time_step\n",
    "        obstacle_info[obs_id]['final_time_step'] = o.prediction.final_time_step\n",
    "        obstacle_info[obs_id]['shape'] = [o.prediction.shape.length, o.prediction.shape.width]\n",
    "        # get sphere centers for a dummy collision check\n",
    "        shape = obstacle_info[obs_id]['shape']\n",
    "        collision_sphere_centers_first = shape[0] / 2 - shape[1] / 2\n",
    "        collision_sphere_centers_last = - collision_sphere_centers_first\n",
    "        total_sphere = math.ceil(shape[0] / shape[1])\n",
    "        num_to_fill = total_sphere - 2\n",
    "        displacement_unit_length = shape[0] / (num_to_fill + 1)\n",
    "        collision_sphere_centers = [collision_sphere_centers_first] \\\n",
    "                                   + [collision_sphere_centers_first - j * displacement_unit_length for j in range(1, num_to_fill+1)] \\\n",
    "                                   + [collision_sphere_centers_last]\n",
    "        obstacle_info[obs_id]['collision_sphere_centers'] = collision_sphere_centers\n",
    "        obstacle_info[obs_id]['bbox'] = {}\n",
    " \n",
    "    prediction = o.prediction.trajectory.state_list\n",
    "    for i, p in enumerate(prediction):\n",
    "        obstacle_info[obs_id]['bbox'][p.time_step] = [p.position[0], p.position[1], p.orientation]"
   ]
  },
  {
   "cell_type": "markdown",
   "metadata": {},
   "source": [
    "### **3.4 Get initial and goal state**"
   ]
  },
  {
   "cell_type": "code",
   "execution_count": 31,
   "metadata": {},
   "outputs": [],
   "source": [
    "## Problem dimensions.\n",
    "n = 9   # length of state vector\n",
    "# x1 = x-position in a global coordinate system, tractor\n",
    "# x2 = y-position in a global coordinate system, tractor\n",
    "# x3 = steering angle of front wheels\n",
    "# x4 = velocity in longitudinal direction\n",
    "# x5 = yaw angle, tractor\n",
    "# x6 = hitch angle\n",
    "# x7 = x-position in a global coordinate system, trailer\n",
    "# x8 = y-position in a global coordinate system, trailer\n",
    "# x9 = yaw angle, trailer\n",
    "\n",
    "m = 2 # length of the input vector\n",
    "# u1 = steering angle velocity of front wheels\n",
    "# u2 = longitudinal acceleration\n",
    "\n",
    "# time step\n",
    "dT = scenario.dt  \n"
   ]
  },
  {
   "cell_type": "code",
   "execution_count": 32,
   "metadata": {},
   "outputs": [
    {
     "name": "stdout",
     "output_type": "stream",
     "text": [
      "x0:\n",
      " [-1.20056814e+02 -2.06815477e+03  0.00000000e+00  1.98000000e+01\n",
      " -1.66024000e+00  0.00000000e+00 -1.19333286e+02 -2.06008715e+03\n",
      " -1.66024000e+00]\n",
      "goal:\n",
      " -129.5 -2210.0 -1.66024\n"
     ]
    }
   ],
   "source": [
    "## Get the initial state of the ego vehicle from the planning problem set.\n",
    "planning_problem = list(planning_problem_set.planning_problem_dict.values())[0]\n",
    "initial_state = planning_problem.initial_state\n",
    "x0 = np.array([initial_state.position[0],\n",
    "               initial_state.position[1],\n",
    "               initial_state.yaw_rate,\n",
    "               initial_state.velocity,\n",
    "               initial_state.orientation,\n",
    "               0.0, # hitch angle at initial state, default value = 0.0\n",
    "               initial_state.position[0] - ep.l_wbt * math.cos(initial_state.orientation),\n",
    "               initial_state.position[1] - ep.l_wbt * math.sin(initial_state.orientation),\n",
    "               initial_state.orientation\n",
    "               ]).reshape([n,])\n",
    "print('x0:\\n', x0)\n",
    "\n",
    "\n",
    "## Get the goal region of the problem.\n",
    "goal_state = planning_problem.goal.state_list[0]\n",
    "goal_position = goal_state.position\n",
    "goal_x = goal_position.center[0] \n",
    "goal_y = goal_position.center[1]\n",
    "goal_yaw = goal_state.position.orientation\n",
    "\n",
    "print('goal:\\n', goal_x, goal_y, goal_yaw)"
   ]
  },
  {
   "cell_type": "markdown",
   "metadata": {},
   "source": [
    "### **3.5 Set up the optimization problem**"
   ]
  },
  {
   "cell_type": "code",
   "execution_count": 33,
   "metadata": {},
   "outputs": [],
   "source": [
    "## Set up the optimization problem.\n",
    "opti = ca.Opti() # Optimization problem\n",
    "# set up CasADi variables\n",
    "X = opti.variable(n,N+1) # state trajectory\n",
    "x      = X[0,:]\n",
    "y      = X[1,:]\n",
    "phi    = X[2,:]\n",
    "v_x    = X[3,:]\n",
    "psi    = X[4,:]\n",
    "alpha  = X[5,:]\n",
    "x_tl   = X[6,:]\n",
    "y_tl   = X[7,:]\n",
    "psi_tl = X[8,:]\n",
    "U = opti.variable(m,N)   # control trajectory \n",
    "# set up weights for cost function\n",
    "w_x     = 10\n",
    "w_y     = 10\n",
    "w_phi   = 100000\n",
    "w_v_x   = 100\n",
    "w_psi = 10000\n",
    "w_alpha = 10000\n",
    "w_x_tl   = 0\n",
    "w_y_tl   = 0\n",
    "w_psi_tl = 10000\n",
    "Q = np.eye(n)*np.transpose(np.array([w_x,\n",
    "                                     w_y,\n",
    "                                     w_phi,\n",
    "                                     w_v_x,\n",
    "                                     w_psi,\n",
    "                                     w_alpha,\n",
    "                                     w_x_tl,\n",
    "                                     w_y_tl,\n",
    "                                     w_psi_tl\n",
    "                                     ]))\n",
    "w_v_delta = 10000000\n",
    "w_acc = 10000\n",
    "R = np.eye(m)*np.transpose(np.array([w_v_delta,\n",
    "                                     w_acc\n",
    "                                     ]))\n",
    "\n",
    "# the optimization problem\n",
    "cost = 0\n",
    "# initial state constraint\n",
    "opti.subject_to(X[:, 0] == x0)\n",
    "# goal state constraint\n",
    "opti.subject_to(ca.sqrt(ca.power((X[0, -1] - goal_x), 2) + ca.power((X[1, -1] - goal_y), 2)) <= 0.1)\n",
    "opti.subject_to(ca.sqrt(ca.power((X[4, -1] - goal_yaw), 2)) <= 0.05)\n",
    "# other constraints\n",
    "opti.subject_to(X[2,:] <= c.steer_max)\n",
    "opti.subject_to(X[2,:] >= c.steer_min)\n",
    "opti.subject_to(X[3,:] <= c.v_s_max + 6)\n",
    "opti.subject_to(X[3,:] >= 0)\n",
    "opti.subject_to(X[5,:] <= c.hitch_angle_max)\n",
    "opti.subject_to(X[5,:] >= c.hitch_angle_min)\n",
    "opti.subject_to(U[0,:] <= c.steer_v_max)\n",
    "opti.subject_to(U[0,:] >= c.steer_v_min)\n",
    "# the kinematics of semi-trailer, check vehicle_dynamics_semi_trailer.py for details\n",
    "f = lambda x, u: ca.vertcat(x[3] * ca.cos(x[4]),\n",
    "                            x[3] * ca.sin(x[4]),\n",
    "                            u[0],\n",
    "                            u[1],\n",
    "                            x[3] / ep.l_wb * ca.tan(x[2]),\n",
    "                            -x[3] * (ca.sin(x[5]) / ep.l_wbt + ca.tan(x[2]) / ep.l_wb),\n",
    "                            x[3] * ca.cos(x[4]) \\\n",
    "                                + ep.l_wbt * ca.sin(x[8]) * (x[3] / ep.l_wb * ca.tan(x[2]) \\\n",
    "                                + -x[3] * (ca.sin(x[5]) / ep.l_wbt + ca.tan(x[2]) / ep.l_wb)),\n",
    "                            x[3] * ca.sin(x[4]) \\\n",
    "                                - ep.l_wbt * ca.cos(x[8]) * (x[3] / ep.l_wb * ca.tan(x[2]) \\\n",
    "                                + -x[3] * (ca.sin(x[5]) / ep.l_wbt + ca.tan(x[2]) / ep.l_wb)),\n",
    "                            x[3] / ep.l_wb * ca.tan(x[2]) \\\n",
    "                                + -x[3] * (ca.sin(x[5]) / ep.l_wbt + ca.tan(x[2]) / ep.l_wb)\n",
    "                            )\n",
    "for k in range(N):\n",
    "    opti.subject_to(X[:, k+1] == X[:, k] + dT * f(X[:, k], U[:, k]))\n",
    "    x_tmp = X[:,k+1] - np.array([goal_x,goal_y,0, c.v_s_max, 0, 0, 0, 0, 0])\n",
    "    cost += x_tmp.T @ Q @ x_tmp\n",
    "    cost += U[:, k].T @ R @ U[:, k]\n",
    "\n",
    "    # acceleration constraints\n",
    "    opti.subject_to(U[1,k] <= c.a_s_max - 0.1 * X[3,k])     # a dummpy method to limit accelerations\n",
    "    opti.subject_to(U[1,k] >= c.a_s_min)\n",
    "\n",
    "    # dummy collision check with obstacles\n",
    "    for i, (key, obs) in enumerate(obstacle_info.items()):\n",
    "        if k < obs['initial_time_step'] or k > obs['final_time_step']:\n",
    "            continue\n",
    "        if k not in obs['bbox'].keys():\n",
    "            continue\n",
    "        \n",
    "        obs_x     = obs['bbox'][k][0]\n",
    "        obs_y     = obs['bbox'][k][1]\n",
    "        obs_yaw   = obs['bbox'][k][2]\n",
    "        obs_shape = obs['shape']\n",
    "\n",
    "        # using spheres as collision volumes\n",
    "        # assuming ego's hitch angle is small in highway scenarios\n",
    "        ego_sphere_d = ep.tractor_w\n",
    "        ego_collision_sphere_centers_first = 3.225\n",
    "        ego_collision_sphere_centers = [ego_collision_sphere_centers_first] + \\\n",
    "            [ego_collision_sphere_centers_first - j * ego_sphere_d for j in range(1, 6)]\n",
    "        obs_collision_sphere_centers = obs['collision_sphere_centers']\n",
    "\n",
    "        for ego_cs in ego_collision_sphere_centers:\n",
    "            for obs_cs in obs_collision_sphere_centers:\n",
    "                x_diff = (X[0,k] + ego_cs * ca.cos(X[4, k])) - (obs_x + obs_cs * math.cos(obs_yaw))\n",
    "                y_diff = (X[1,k] + ego_cs * ca.sin(X[4, k])) - (obs_y + obs_cs * math.sin(obs_yaw))\n",
    "                opti.subject_to(ca.sqrt(ca.power(x_diff, 2) + ca.power(y_diff, 2)) >= (ego_sphere_d / 2 + obs_shape[1] / 2 + 0.1))"
   ]
  },
  {
   "cell_type": "markdown",
   "metadata": {},
   "source": [
    "### **3.6 Solve the planning problem**"
   ]
  },
  {
   "cell_type": "code",
   "execution_count": 34,
   "metadata": {},
   "outputs": [
    {
     "name": "stdout",
     "output_type": "stream",
     "text": [
      "\n",
      "******************************************************************************\n",
      "This program contains Ipopt, a library for large-scale nonlinear optimization.\n",
      " Ipopt is released as open source code under the Eclipse Public License (EPL).\n",
      "         For more information visit http://projects.coin-or.org/Ipopt\n",
      "******************************************************************************\n",
      "\n",
      "This is Ipopt version 3.12.3, running with linear solver mumps.\n",
      "NOTE: Other linear solvers might be more efficient (see Ipopt documentation).\n",
      "\n",
      "Number of nonzeros in equality constraint Jacobian...:     2674\n",
      "Number of nonzeros in inequality constraint Jacobian.:     5404\n",
      "Number of nonzeros in Lagrangian Hessian.............:     3135\n",
      "\n",
      "Total number of variables............................:      724\n",
      "                     variables with only lower bounds:        0\n",
      "                variables with lower and upper bounds:        0\n",
      "                     variables with only upper bounds:        0\n",
      "Total number of equality constraints.................:      594\n",
      "Total number of inequality constraints...............:     2218\n",
      "        inequality constraints with only lower bounds:     1888\n",
      "   inequality constraints with lower and upper bounds:        0\n",
      "        inequality constraints with only upper bounds:      330\n",
      "\n",
      "iter    objective    inf_pr   inf_du lg(mu)  ||d||  lg(rg) alpha_du alpha_pr  ls\n",
      "   0  3.1887749e+09 2.21e+03 1.00e+02  -1.0 0.00e+00    -  0.00e+00 0.00e+00   0\n",
      "   1  3.1883614e+09 2.21e+03 1.00e+02  -1.0 2.08e+03    -  5.03e-04 6.94e-05f  1\n",
      "   2  3.1883506e+09 2.21e+03 5.19e+03  -1.0 2.17e+03    -  1.15e-03 1.79e-06f  1\n",
      "   3  3.1882856e+09 2.21e+03 3.65e+05  -1.0 5.29e+03    -  2.15e-03 1.07e-05f  1\n",
      "   4  3.1882798e+09 2.21e+03 3.92e+06  -1.0 5.90e+04    -  1.94e-04 9.58e-07f  1\n",
      "   5  3.1882399e+09 2.21e+03 2.61e+08  -1.0 4.73e+03    -  9.07e-04 6.63e-06f  1\n",
      "   6  3.1882398e+09 2.21e+03 1.07e+09  -1.0 3.85e+04    -  2.31e-05 5.76e-08f  8\n",
      "   7r 3.1882398e+09 2.21e+03 1.00e+03   3.3 0.00e+00    -  0.00e+00 4.03e-07R  5\n",
      "   8r 3.1883516e+09 2.21e+03 9.97e+02   3.3 2.71e+03    -  5.25e-03 5.28e-03f  1\n",
      "   9r 3.1878846e+09 2.21e+03 7.30e+02   1.9 1.65e+01    -  4.14e-01 2.66e-01f  1\n",
      "iter    objective    inf_pr   inf_du lg(mu)  ||d||  lg(rg) alpha_du alpha_pr  ls\n",
      "  10r 3.1836779e+09 2.20e+03 7.60e+02   1.9 2.68e+01    -  5.29e-02 6.64e-01f  1\n",
      "  11r 3.1834498e+09 2.20e+03 5.76e+02   1.9 1.10e+01    -  2.49e-01 8.78e-02f  1\n",
      "  12r 3.1831808e+09 2.20e+03 6.60e+02   1.2 1.24e+01    -  1.53e-01 5.09e-01f  1\n",
      "  13r 3.1831186e+09 2.20e+03 5.44e+02   1.2 3.19e+01    -  1.17e-01 1.76e-01f  1\n",
      "  14r 3.1830347e+09 2.20e+03 4.78e+02   1.2 3.26e+01    -  9.86e-02 1.22e-01f  1\n",
      "  15r 3.1833667e+09 2.20e+03 4.40e+02   1.2 3.25e+01    -  8.93e-02 1.69e-01f  1\n",
      "  16r 3.1838233e+09 2.20e+03 4.01e+02   1.2 3.01e+01    -  9.57e-02 1.25e-01f  1\n",
      "  17r 3.1846627e+09 2.20e+03 3.62e+02   1.2 3.04e+01    -  9.87e-02 1.45e-01f  1\n",
      "  18r 3.1858366e+09 2.20e+03 3.17e+02   1.2 2.65e+01    -  1.09e-01 1.69e-01f  1\n",
      "  19r 3.1869823e+09 2.20e+03 2.65e+02   1.2 2.13e+01    -  1.37e-01 2.01e-01f  1\n",
      "iter    objective    inf_pr   inf_du lg(mu)  ||d||  lg(rg) alpha_du alpha_pr  ls\n",
      "  20r 3.1881532e+09 2.20e+03 2.02e+02   1.2 1.58e+01    -  1.74e-01 2.97e-01f  1\n",
      "  21r 3.1881176e+09 2.20e+03 2.38e+02   1.2 9.95e+00    -  2.51e-01 3.68e-01f  1\n",
      "  22r 3.1877669e+09 2.20e+03 4.14e+02   1.2 1.12e+01    -  3.49e-01 7.36e-01f  1\n",
      "  23r 3.1950373e+09 2.20e+03 3.49e+02   0.5 5.29e+00    -  2.79e-01 7.32e-01f  1\n",
      "  24r 3.2001465e+09 2.20e+03 2.28e+02   0.5 3.69e+01    -  1.88e-01 1.19e-01f  1\n",
      "  25r 3.2513114e+09 2.19e+03 5.37e+02   0.5 3.56e+01    -  8.10e-02 1.91e-01f  1\n",
      "  26r 3.2774893e+09 2.19e+03 4.14e+02   0.5 2.64e+01    -  2.22e-01 2.30e-01f  1\n",
      "  27r 3.2932848e+09 2.18e+03 2.81e+02   0.5 1.82e+01    -  2.18e-01 3.39e-01f  1\n",
      "  28r 3.3015107e+09 2.18e+03 3.18e+02   0.5 1.18e+01    -  2.37e-01 5.40e-01f  1\n",
      "  29r 3.2964381e+09 2.18e+03 2.58e+02   0.5 1.03e+01    -  3.54e-02 4.54e-01f  1\n",
      "iter    objective    inf_pr   inf_du lg(mu)  ||d||  lg(rg) alpha_du alpha_pr  ls\n",
      "  30r 3.2953002e+09 2.18e+03 1.86e+02   0.5 9.60e+00    -  2.18e-01 9.56e-02f  1\n",
      "  31r 3.2968289e+09 2.18e+03 1.51e+02  -0.1 1.34e+01    -  3.49e-01 1.30e-01f  1\n",
      "  32r 3.2948564e+09 2.18e+03 1.46e+02  -0.1 6.32e+01    -  2.84e-02 3.47e-02f  1\n",
      "  33r 3.2932660e+09 2.17e+03 1.42e+02  -0.1 6.95e+01    -  5.96e-02 2.91e-02f  1\n",
      "  34r 3.2911686e+09 2.17e+03 1.34e+02  -0.1 5.33e+01    -  1.41e-02 5.36e-02f  1\n",
      "  35r 3.2904521e+09 2.17e+03 1.38e+02  -0.1 6.16e+01    -  7.66e-02 1.92e-02f  1\n",
      "  36r 3.2895917e+09 2.17e+03 1.22e+02  -0.1 4.72e+01    -  1.72e-02 7.26e-02f  1\n",
      "  37r 3.2891185e+09 2.17e+03 1.46e+02  -0.1 5.25e+01    -  8.24e-02 2.04e-02f  1\n",
      "  38r 3.2887522e+09 2.17e+03 1.09e+02  -0.1 4.04e+01    -  5.28e-02 8.49e-02f  1\n",
      "  39r 3.2876580e+09 2.16e+03 1.30e+02  -0.1 4.29e+01    -  6.55e-02 3.47e-02f  1\n",
      "iter    objective    inf_pr   inf_du lg(mu)  ||d||  lg(rg) alpha_du alpha_pr  ls\n",
      "  40r 3.2861981e+09 2.16e+03 1.11e+02  -0.1 3.29e+01    -  7.76e-02 8.51e-02f  1\n",
      "  41r 3.2846501e+09 2.16e+03 8.84e+01  -0.1 3.46e+01    -  5.69e-02 8.36e-02f  1\n",
      "  42r 3.2821092e+09 2.16e+03 9.82e+01  -0.1 2.64e+01    -  8.95e-02 5.87e-02f  1\n",
      "  43r 3.2794357e+09 2.16e+03 8.21e+01  -0.1 2.75e+01    -  6.49e-02 7.50e-02f  1\n",
      "  44r 3.2757474e+09 2.16e+03 1.06e+02  -0.1 2.17e+01    -  1.17e-01 7.82e-02f  1\n",
      "  45r 3.2716076e+09 2.16e+03 1.16e+02  -0.1 1.98e+01    -  1.00e-01 7.23e-02f  1\n",
      "  46r 3.2666856e+09 2.15e+03 7.54e+01  -0.1 1.83e+01    -  1.46e-01 1.81e-01f  1\n",
      "  47r 3.2638563e+09 2.15e+03 1.06e+02  -0.1 1.42e+01    -  1.42e-01 7.16e-02f  1\n",
      "  48r 3.2578648e+09 2.15e+03 4.95e+01  -0.1 1.29e+01    -  8.27e-02 2.42e-01f  1\n",
      "  49r 3.2546499e+09 2.15e+03 3.56e+01  -0.1 1.06e+01    -  3.04e-01 2.84e-01f  1\n",
      "iter    objective    inf_pr   inf_du lg(mu)  ||d||  lg(rg) alpha_du alpha_pr  ls\n",
      "  50r 3.2523794e+09 2.15e+03 5.04e+01  -0.8 6.55e+00    -  1.86e-01 1.27e-01f  1\n",
      "  51r 3.2431806e+09 2.15e+03 4.85e+01  -0.8 8.73e+01    -  1.80e-02 3.65e-02f  1\n",
      "  52r 3.2412806e+09 2.15e+03 4.81e+01  -0.8 8.52e+01    -  3.30e-02 9.21e-03f  1\n",
      "  53r 3.2326124e+09 2.14e+03 4.63e+01  -0.8 7.58e+01    -  2.71e-02 3.79e-02f  1\n",
      "  54r 3.2287950e+09 2.14e+03 4.57e+01  -0.8 7.66e+01    -  2.97e-02 1.26e-02f  1\n",
      "  55r 3.2216127e+09 2.14e+03 4.40e+01  -0.8 6.81e+01    -  3.58e-02 3.67e-02f  1\n",
      "  56r 3.2182503e+09 2.14e+03 4.32e+01  -0.8 6.59e+01    -  1.73e-02 1.93e-02f  1\n",
      "  57r 3.2111656e+09 2.14e+03 4.15e+01  -0.8 5.98e+01    -  3.25e-02 3.89e-02f  1\n",
      "  58r 3.2073106e+09 2.14e+03 6.30e+01  -0.8 6.07e+01    -  4.45e-02 1.80e-02f  1\n",
      "  59r 3.2002813e+09 2.14e+03 3.87e+01  -0.8 5.18e+01    -  2.74e-02 4.98e-02f  1\n",
      "iter    objective    inf_pr   inf_du lg(mu)  ||d||  lg(rg) alpha_du alpha_pr  ls\n",
      "  60r 3.1968317e+09 2.13e+03 3.80e+01  -0.8 5.25e+01    -  2.19e-02 1.93e-02f  1\n",
      "  61r 3.1868372e+09 2.13e+03 3.61e+01  -0.8 4.59e+01    -  3.66e-02 4.95e-02f  1\n",
      "  62r 3.1822236e+09 2.13e+03 8.85e+01  -0.8 4.73e+01    -  7.99e-02 1.98e-02f  1\n",
      "  63r 3.1708152e+09 2.13e+03 4.19e+01  -0.8 4.04e+01    -  1.60e-02 6.82e-02f  1\n",
      "  64r 3.1689612e+09 2.13e+03 4.13e+01  -0.8 3.83e+01    -  2.86e-02 1.44e-02f  1\n",
      "  65r 3.1574494e+09 2.13e+03 4.06e+01  -0.8 3.61e+01    -  4.19e-02 6.94e-02f  1\n",
      "  66r 3.1536066e+09 2.13e+03 5.22e+01  -0.8 3.45e+01    -  7.58e-02 2.38e-02f  1\n",
      "  67r 3.1453941e+09 2.12e+03 5.69e+01  -0.8 3.30e+01    -  1.21e-02 8.13e-02f  1\n",
      "  68r 3.1425487e+09 2.12e+03 3.97e+01  -0.8 2.94e+01    -  9.46e-02 2.75e-02f  1\n",
      "  69r 3.1317664e+09 2.12e+03 3.80e+01  -0.8 2.86e+01    -  4.32e-02 8.01e-02f  1\n",
      "iter    objective    inf_pr   inf_du lg(mu)  ||d||  lg(rg) alpha_du alpha_pr  ls\n",
      "  70r 3.1313634e+09 2.12e+03 3.77e+01  -0.8 7.53e+00   0.0 4.16e-02 4.51e-02f  1\n",
      "  71r 3.1276476e+09 2.12e+03 2.04e+01  -0.8 3.90e+00   0.4 3.68e-01 3.38e-01f  1\n",
      "  72r 3.1252523e+09 2.12e+03 1.76e+01  -0.8 7.54e+00  -0.1 1.35e-01 1.06e-01f  1\n",
      "  73r 3.1249887e+09 2.12e+03 2.45e+01  -0.8 2.95e+01    -  1.47e-02 4.77e-03f  1\n",
      "  74r 3.1172481e+09 2.12e+03 2.26e+01  -0.8 2.55e+01    -  6.84e-02 5.89e-02f  1\n",
      "  75r 3.1163407e+09 2.12e+03 3.88e+01  -0.8 2.47e+01    -  4.28e-02 7.62e-03f  1\n",
      "  76r 3.1075270e+09 2.12e+03 4.98e+01  -0.8 2.46e+01    -  1.05e-01 8.23e-02f  1\n",
      "  77r 3.1022983e+09 2.12e+03 1.91e+02  -0.8 2.44e+01    -  3.51e-03 6.07e-02f  1\n",
      "  78r 3.0953933e+09 2.11e+03 1.66e+02  -0.8 2.10e+01    -  1.17e-01 9.68e-02f  1\n",
      "  79r 3.0883095e+09 2.11e+03 9.23e+01  -0.8 1.87e+01    -  3.44e-01 1.03e-01f  1\n",
      "iter    objective    inf_pr   inf_du lg(mu)  ||d||  lg(rg) alpha_du alpha_pr  ls\n",
      "  80r 3.0782159e+09 2.11e+03 7.67e+01  -0.8 1.67e+01    -  1.57e-01 1.46e-01f  1\n",
      "  81r 3.0676135e+09 2.11e+03 4.97e+01  -0.8 1.41e+01    -  2.58e-01 1.73e-01f  1\n",
      "  82r 3.0591812e+09 2.11e+03 5.10e+01  -0.8 1.16e+01    -  2.89e-01 1.69e-01f  1\n",
      "  83r 3.0481440e+09 2.10e+03 3.62e+01  -0.8 9.63e+00    -  2.65e-01 2.76e-01f  1\n",
      "  84r 3.0418634e+09 2.10e+03 3.11e+01  -0.8 6.97e+00    -  3.21e-01 2.43e-01f  1\n",
      "  85r 3.0333796e+09 2.10e+03 2.95e+01  -0.8 5.23e+00    -  1.00e+00 4.71e-01f  1\n",
      "  86r 3.0261848e+09 2.10e+03 6.69e+00  -0.8 2.79e+00    -  8.64e-01 7.93e-01f  1\n",
      "  87r 3.0266247e+09 2.10e+03 2.76e+01  -1.5 6.49e-01    -  1.00e+00 1.00e+00f  1\n",
      "  88r 3.0206226e+09 2.10e+03 2.71e+01  -1.5 1.08e+02    -  4.44e-02 1.63e-02f  1\n",
      "  89r 3.0099421e+09 2.09e+03 2.63e+01  -1.5 1.06e+02    -  7.33e-03 3.04e-02f  1\n",
      "iter    objective    inf_pr   inf_du lg(mu)  ||d||  lg(rg) alpha_du alpha_pr  ls\n",
      "  90r 3.0081143e+09 2.09e+03 2.61e+01  -1.5 1.02e+02    -  1.13e-02 6.08e-03f  1\n",
      "  91r 2.9982969e+09 2.09e+03 2.54e+01  -1.5 1.01e+02    -  2.04e-02 2.87e-02f  1\n",
      "  92r 2.9955876e+09 2.09e+03 2.58e+01  -1.5 9.81e+01    -  4.13e-02 7.58e-03f  1\n",
      "  93r 2.9825428e+09 2.09e+03 3.01e+01  -1.5 9.88e+01    -  4.19e-02 3.43e-02f  1\n",
      "  94r 2.9783447e+09 2.08e+03 2.40e+01  -1.5 9.60e+01    -  1.44e-03 1.19e-02f  1\n",
      "  95r 2.9731493e+09 2.08e+03 2.35e+01  -1.5 9.50e+01    -  7.76e-03 2.38e-02f  1\n",
      "  96r 2.9687422e+09 2.08e+03 4.54e+01  -1.5 9.31e+01    -  6.92e-02 1.29e-02f  1\n",
      "  97r 2.9541889e+09 2.08e+03 3.90e+01  -1.5 9.28e+01    -  3.45e-02 4.27e-02f  1\n",
      "  98r 2.9408643e+09 2.07e+03 2.12e+01  -1.5 8.92e+01    -  1.02e-02 4.31e-02f  1\n",
      "  99r 2.9355273e+09 2.07e+03 2.05e+01  -1.5 8.51e+01    -  8.09e-03 3.19e-02f  1\n",
      "iter    objective    inf_pr   inf_du lg(mu)  ||d||  lg(rg) alpha_du alpha_pr  ls\n",
      " 100r 2.9224366e+09 2.07e+03 3.77e+01  -1.5 8.22e+01    -  1.13e-01 4.71e-02f  1\n",
      " 101r 2.9092209e+09 2.06e+03 1.86e+01  -1.5 7.81e+01    -  7.76e-03 5.19e-02f  1\n",
      " 102r 2.9077324e+09 2.06e+03 1.84e+01  -1.5 7.37e+01    -  7.42e-03 8.15e-03f  1\n",
      " 103r 2.8898878e+09 2.06e+03 3.56e+01  -1.5 7.30e+01    -  1.34e-01 7.53e-02f  1\n",
      " 104r 2.8896928e+09 2.06e+03 3.61e+01  -1.5 6.65e+01    -  2.53e-03 8.91e-04f  1\n",
      " 105r 2.8896031e+09 2.06e+03 3.78e+01  -1.5 6.88e+01    -  7.02e-03 4.42e-04f  1\n",
      " 106r 2.8667069e+09 2.05e+03 4.85e+01  -1.5 6.87e+01    -  1.96e-01 1.25e-01f  1\n",
      " 107r 2.8573445e+09 2.05e+03 3.35e+01  -1.5 6.04e+01    -  2.60e-03 6.09e-02f  1\n",
      " 108r 2.8345643e+09 2.04e+03 3.94e+01  -1.5 5.65e+01    -  2.20e-01 1.53e-01f  1\n",
      " 109r 2.8338721e+09 2.04e+03 3.88e+01  -1.5 4.80e+01    -  2.90e-03 5.54e-03f  1\n",
      "iter    objective    inf_pr   inf_du lg(mu)  ||d||  lg(rg) alpha_du alpha_pr  ls\n",
      " 110r 2.8091246e+09 2.03e+03 4.46e+01  -1.5 4.75e+01    -  3.08e-01 1.99e-01f  1\n",
      " 111r 2.8083604e+09 2.03e+03 4.37e+01  -1.5 3.82e+01    -  3.64e-03 7.73e-03f  1\n",
      " 112r 2.7825276e+09 2.02e+03 4.62e+01  -1.5 3.77e+01    -  4.25e-01 2.64e-01f  1\n",
      " 113r 2.7815752e+09 2.02e+03 4.50e+01  -1.5 2.79e+01    -  5.39e-03 1.35e-02f  1\n",
      " 114r 2.7539595e+09 2.01e+03 4.39e+01  -1.5 2.74e+01    -  6.60e-01 3.94e-01f  1\n",
      " 115r 2.7518266e+09 2.01e+03 4.08e+01  -1.5 1.67e+01    -  1.30e-02 5.11e-02f  1\n",
      " 116r 2.7206208e+09 2.00e+03 1.45e+01  -1.5 1.58e+01    -  1.00e+00 7.91e-01f  1\n",
      " 117r 2.7127514e+09 2.00e+03 4.60e+00  -1.5 3.34e+00    -  6.56e-01 1.00e+00h  1\n",
      " 118r 2.7122513e+09 2.00e+03 2.28e-02  -1.5 2.13e-01    -  1.00e+00 1.00e+00h  1\n",
      " 119r 2.7104136e+09 2.00e+03 3.41e+01  -3.5 9.27e-02    -  8.20e-01 1.00e+00f  1\n",
      "iter    objective    inf_pr   inf_du lg(mu)  ||d||  lg(rg) alpha_du alpha_pr  ls\n",
      " 120r 2.6775924e+09 1.99e+03 3.38e+01  -3.5 1.52e+03    -  7.25e-03 8.48e-03f  1\n",
      " 121  2.6775638e+09 1.99e+03 2.44e+04  -1.0 2.41e+03    -  5.36e-07 5.45e-06f  1\n",
      " 122  2.6599783e+09 1.98e+03 2.44e+04  -1.0 2.34e+03    -  3.67e-06 3.41e-03f  1\n",
      " 123  2.6543090e+09 1.98e+03 2.43e+04  -1.0 2.30e+03    -  1.88e-04 1.12e-03f  1\n",
      " 124  1.3694708e+09 1.39e+03 1.71e+04  -1.0 2.28e+03    -  4.27e-04 2.98e-01f  1\n",
      " 125  1.3595814e+09 1.38e+03 1.70e+04  -1.0 1.49e+03    -  6.54e-03 3.88e-03f  1\n",
      " 126  1.2797397e+09 1.34e+03 1.65e+04  -1.0 1.49e+03    -  4.58e-03 3.19e-02f  1\n",
      " 127  2.3429924e+07 1.48e+02 2.07e+03  -1.0 1.45e+03    -  3.17e-02 9.85e-01f  1\n",
      " 128  2.2385581e+07 1.44e+02 2.00e+03  -1.0 1.67e+02    -  5.45e-03 2.97e-02f  1\n",
      " 129  1.3850415e+07 1.01e+02 2.35e+03  -1.0 1.49e+02    -  8.63e-03 9.30e-01f  1\n",
      "iter    objective    inf_pr   inf_du lg(mu)  ||d||  lg(rg) alpha_du alpha_pr  ls\n",
      " 130  1.1566573e+07 7.70e+01 1.21e+03  -1.0 1.18e+02    -  5.59e-02 5.01e-01f  1\n",
      " 131  1.1162437e+07 7.42e+01 1.17e+03  -1.0 8.14e+01   0.0 6.67e-03 3.74e-02f  1\n",
      " 132  9.9535478e+06 5.95e+01 9.36e+02  -1.0 9.58e+01  -0.5 3.54e-02 2.19e-01f  1\n",
      " 133  9.8648428e+06 5.86e+01 9.22e+02  -1.0 6.20e+01    -  5.46e-01 1.51e-02f  1\n",
      " 134  9.8408785e+06 5.83e+01 9.18e+02  -1.0 5.39e+01    -  2.30e-01 4.24e-03f  1\n",
      " 135  8.0193570e+06 2.94e+01 5.15e+02  -1.0 5.32e+01    -  5.60e-01 5.00e-01f  1\n",
      " 136  7.9640164e+06 2.73e+01 4.79e+02  -1.0 3.08e+01    -  2.56e-01 7.02e-02f  1\n",
      " 137  7.8319064e+06 1.35e+01 5.98e+02  -1.0 2.80e+01    -  2.38e-02 5.12e-01f  1\n",
      " 138  7.8891321e+06 8.58e+00 8.62e+02  -1.0 1.71e+01    -  1.13e-01 3.65e-01h  1\n",
      " 139  8.1611520e+06 9.85e-01 1.52e+03  -1.0 1.07e+01    -  1.01e-02 1.00e+00h  1\n",
      "iter    objective    inf_pr   inf_du lg(mu)  ||d||  lg(rg) alpha_du alpha_pr  ls\n",
      " 140  8.1629307e+06 8.69e-01 1.46e+03  -1.0 4.09e+00    -  2.93e-02 1.83e-01h  1\n",
      " 141  8.1382355e+06 7.59e-03 1.41e+03  -1.0 3.08e+00    -  1.66e-02 1.00e+00f  1\n",
      " 142  8.1376007e+06 4.46e-06 4.83e+02  -1.0 9.24e-02    -  5.78e-01 1.00e+00f  1\n",
      " 143  8.1352998e+06 3.02e-01 6.79e+02  -1.0 4.40e-01   0.9 2.35e-02 1.00e+00f  1\n",
      " 144  8.1277384e+06 4.56e-01 6.13e+02  -1.0 9.74e-01   0.4 1.89e-01 2.87e-01f  1\n",
      " 145  8.1275691e+06 4.57e-01 6.08e+02  -1.0 1.17e+00  -0.1 1.09e-01 3.11e-03h  1\n",
      " 146  8.0815356e+06 3.74e+00 3.29e+02  -1.0 3.44e+00  -0.6 4.81e-01 1.00e+00f  1\n",
      " 147  8.1235770e+06 4.77e-01 7.45e+01  -1.0 3.31e+00    -  1.00e+00 1.00e+00h  1\n",
      " 148  8.1179212e+06 4.34e-01 3.64e+01  -1.0 6.96e-01    -  1.00e+00 1.00e+00f  1\n",
      " 149  8.1230353e+06 3.02e-01 5.30e+01  -1.0 5.87e-01    -  1.00e+00 1.00e+00h  1\n",
      "iter    objective    inf_pr   inf_du lg(mu)  ||d||  lg(rg) alpha_du alpha_pr  ls\n",
      " 150  8.1228659e+06 2.35e-01 3.29e+01  -1.0 4.21e-01    -  1.00e+00 1.00e+00f  1\n",
      " 151  8.1259908e+06 1.35e-01 4.50e+01  -1.0 3.19e-01    -  1.00e+00 1.00e+00h  1\n",
      " 152  8.1264423e+06 8.76e-02 2.42e+01  -1.0 2.03e-01    -  1.00e+00 1.00e+00h  1\n",
      " 153  8.1280074e+06 2.86e-02 2.41e+01  -1.0 1.21e-01    -  1.00e+00 1.00e+00h  1\n",
      " 154  8.1284469e+06 8.51e-03 6.27e+00  -1.0 5.35e-02    -  1.00e+00 1.00e+00h  1\n",
      " 155  8.1287073e+06 2.55e-08 1.12e+00  -1.0 1.40e-02    -  1.00e+00 1.00e+00h  1\n",
      " 156  8.1287253e+06 5.24e-10 1.12e-02  -1.0 1.55e-03    -  1.00e+00 1.00e+00h  1\n",
      " 157  8.1286606e+06 1.81e-05 8.19e-02  -2.5 7.48e-02    -  1.00e+00 1.00e+00f  1\n",
      " 158  8.1286614e+06 8.05e-09 7.49e-05  -2.5 1.44e-03    -  1.00e+00 1.00e+00h  1\n",
      " 159  8.1286602e+06 1.50e-08 6.96e-05  -3.8 2.15e-03    -  1.00e+00 1.00e+00h  1\n",
      "iter    objective    inf_pr   inf_du lg(mu)  ||d||  lg(rg) alpha_du alpha_pr  ls\n",
      " 160  8.1286601e+06 4.73e-11 2.22e-07  -5.7 1.21e-04    -  1.00e+00 1.00e+00h  1\n",
      " 161  8.1286601e+06 4.55e-13 4.05e-11  -8.6 1.48e-06    -  1.00e+00 1.00e+00h  1\n",
      "\n",
      "Number of Iterations....: 161\n",
      "\n",
      "                                   (scaled)                 (unscaled)\n",
      "Objective...............:   1.8390633810492589e+04    8.1286601442377232e+06\n",
      "Dual infeasibility......:   4.0528168277972898e-11    1.7913450378864018e-08\n",
      "Constraint violation....:   4.5474735088646412e-13    4.5474735088646412e-13\n",
      "Complementarity.........:   2.5104020412171139e-09    1.1095977022179643e-06\n",
      "Overall NLP error.......:   2.5104020412171139e-09    1.1095977022179643e-06\n",
      "\n",
      "\n",
      "Number of objective function evaluations             = 174\n",
      "Number of objective gradient evaluations             = 50\n",
      "Number of equality constraint evaluations            = 174\n",
      "Number of inequality constraint evaluations          = 174\n",
      "Number of equality constraint Jacobian evaluations   = 163\n",
      "Number of inequality constraint Jacobian evaluations = 163\n",
      "Number of Lagrangian Hessian evaluations             = 161\n",
      "Total CPU secs in IPOPT (w/o function evaluations)   =      1.965\n",
      "Total CPU secs in NLP function evaluations           =      4.754\n",
      "\n",
      "EXIT: Optimal Solution Found.\n",
      "      solver  :   t_proc      (avg)   t_wall      (avg)    n_eval\n",
      "       nlp_f  |  26.55ms (152.59us)  26.61ms (152.94us)       174\n",
      "       nlp_g  | 407.77ms (  2.34ms) 406.55ms (  2.34ms)       174\n",
      "  nlp_grad_f  |  10.50ms (205.82us)  10.52ms (206.19us)        51\n",
      "  nlp_hess_l  |   3.06 s ( 19.15ms)   3.06 s ( 19.11ms)       160\n",
      "   nlp_jac_g  |   1.26 s (  7.70ms)   1.26 s (  7.68ms)       164\n",
      "       total  |   6.78 s (  6.78 s)   6.75 s (  6.75 s)         1\n"
     ]
    }
   ],
   "source": [
    "## Sums problem objectives and concatenates constraints.\n",
    "# create optimization problem\n",
    "opti.minimize(cost)\n",
    "opti.solver(\"ipopt\") # set numerical backend\n",
    "## Solve optimization problem.\n",
    "sol = opti.solve()"
   ]
  },
  {
   "cell_type": "markdown",
   "metadata": {},
   "source": [
    "### **3.7 Plot result**"
   ]
  },
  {
   "cell_type": "code",
   "execution_count": 35,
   "metadata": {},
   "outputs": [
    {
     "data": {
      "image/png": "[encoded data removed]",
      "text/plain": [
       "<Figure size 432x288 with 1 Axes>"
      ]
     },
     "metadata": {
      "needs_background": "light"
     },
     "output_type": "display_data"
    },
    {
     "data": {
      "image/png": "[encoded data removed]",
      "text/plain": [
       "<Figure size 432x288 with 1 Axes>"
      ]
     },
     "metadata": {
      "needs_background": "light"
     },
     "output_type": "display_data"
    },
    {
     "data": {
      "image/png": "[encoded data removed]",
      "text/plain": [
       "<Figure size 432x288 with 1 Axes>"
      ]
     },
     "metadata": {
      "needs_background": "light"
     },
     "output_type": "display_data"
    },
    {
     "data": {
      "image/png": "[encoded data removed]",
      "text/plain": [
       "<Figure size 432x288 with 1 Axes>"
      ]
     },
     "metadata": {
      "needs_background": "light"
     },
     "output_type": "display_data"
    },
    {
     "data": {
      "image/png": "[encoded data removed]",
      "text/plain": [
       "<Figure size 432x288 with 1 Axes>"
      ]
     },
     "metadata": {
      "needs_background": "light"
     },
     "output_type": "display_data"
    },
    {
     "data": {
      "image/png": "[encoded data removed]",
      "text/plain": [
       "<Figure size 432x288 with 1 Axes>"
      ]
     },
     "metadata": {
      "needs_background": "light"
     },
     "output_type": "display_data"
    }
   ],
   "source": [
    "plt.ion()\n",
    "plt.plot(sol.value(X[0, :]),label=\"x_tractor\")\n",
    "plt.plot(sol.value(X[6, :]),label=\"x_trailer\")\n",
    "plt.legend(loc=\"upper left\")\n",
    "plt.show(block=True)\n",
    "\n",
    "plt.plot(sol.value(X[1, :]),label=\"y_tractor\")\n",
    "plt.plot(sol.value(X[7, :]),label=\"y_trailer\")\n",
    "plt.legend(loc=\"upper left\")\n",
    "plt.show(block=True)\n",
    "\n",
    "plt.plot(sol.value(U[1, :]),label=\"acc\")\n",
    "plt.plot(sol.value(X[3, :]),label=\"v_lon\")\n",
    "plt.legend(loc=\"upper left\")\n",
    "plt.show(block=True)\n",
    "\n",
    "plt.plot(sol.value(X[4, :]),label=\"psi\")\n",
    "plt.plot(sol.value(X[8, :]),label=\"psi_trailer\")\n",
    "plt.legend(loc=\"upper left\")\n",
    "plt.show(block=True)\n",
    "\n",
    "plt.plot(sol.value(X[2, :]),label=\"delta\")\n",
    "plt.plot(sol.value(U[0, :]),label=\"v_delta\")\n",
    "plt.legend(loc=\"upper left\")\n",
    "plt.show(block=True)\n",
    "\n",
    "plt.plot(sol.value(X[5, :]),label=\"alpha\")\n",
    "plt.legend(loc=\"upper left\")\n",
    "plt.show(block=True)\n",
    "\n",
    "# print(sol.value(X[4, :]))"
   ]
  },
  {
   "cell_type": "markdown",
   "metadata": {},
   "source": [
    "### **3.8 Extract, visualize and save the solution for tractor and trailer**"
   ]
  },
  {
   "cell_type": "code",
   "execution_count": 36,
   "metadata": {},
   "outputs": [],
   "source": [
    "def extract_and_derive_tractor_trailer_state_from_results(x_result):\n",
    "    result = {}\n",
    "    result['tractor_pos_x'] = x_result[0,:].flatten()\n",
    "    result['tractor_pos_y'] = x_result[1,:].flatten()\n",
    "    result['tractor_steer'] = x_result[2,:].flatten()\n",
    "    result['tractor_vel'] = x_result[3,:].flatten()\n",
    "    result['tractor_orientation'] = x_result[4,:].flatten()\n",
    "    result['hitch_angle'] = x_result[5,:].flatten()\n",
    "    result['trailer_pos_x'] = x_result[6,:].flatten()\n",
    "    result['trailer_pos_y'] = x_result[7,:].flatten()\n",
    "    result['trailer_orientation'] = x_result[8,:].flatten()\n",
    "    return result\n",
    "\n",
    "state_dic = extract_and_derive_tractor_trailer_state_from_results(sol.value(X))"
   ]
  },
  {
   "cell_type": "markdown",
   "metadata": {},
   "source": [
    "#### **3.8.1 Create tractor DynamicObstalce**"
   ]
  },
  {
   "cell_type": "code",
   "execution_count": 37,
   "metadata": {},
   "outputs": [],
   "source": [
    "tractor_rear_to_tractor_center = ep.l_total - ep.l_hitch - ep.tractor_l / 2\n",
    "tractor_rear_to_trailer_center = - (ep.trailer_l - ep.l_hitch) + ep.trailer_l / 2\n",
    "trailer_rear_to_trailer_center = ep.l_wbt - ep.l_hitch + ep.trailer_l / 2\n",
    "\n",
    "## tractor DynamicObstacle for simulation\n",
    "state_list = []\n",
    "# add init state first\n",
    "state_list.append(State(**{'position': np.array([\n",
    "                                initial_state.position[0] \\\n",
    "                                    + tractor_rear_to_tractor_center * math.cos(initial_state.orientation), \n",
    "                                initial_state.position[0] \\\n",
    "                                    + tractor_rear_to_tractor_center * math.sin(initial_state.orientation)\n",
    "                                ]),\n",
    "                           'orientation': initial_state.orientation,\n",
    "                           'time_step': 0\n",
    "                           }))\n",
    "for i in range(1, N):\n",
    "    # add new state to state_list    \n",
    "    state_list.append(State(**{'position': np.array([\n",
    "                                    state_dic['tractor_pos_x'][i] \\\n",
    "                                        + tractor_rear_to_tractor_center * math.cos(state_dic['tractor_orientation'][i]), \n",
    "                                    state_dic['tractor_pos_y'][i] \\\n",
    "                                        + tractor_rear_to_tractor_center * math.sin(state_dic['tractor_orientation'][i])\n",
    "                                    ]), \n",
    "                               'orientation': state_dic['tractor_orientation'][i],\n",
    "                               'time_step': i\n",
    "                              }))\n",
    "\n",
    "# create the planned trajectory starting at time step 0\n",
    "tractor_trajectory = Trajectory(initial_time_step=0, state_list=state_list[0:])\n",
    "# create the prediction using the planned trajectory and the shape of the tractor\n",
    "tractor_shape = Rectangle(length=ep.tractor_l, \n",
    "                          width=ep.tractor_w)\n",
    "tractor_prediction = TrajectoryPrediction(trajectory=tractor_trajectory,\n",
    "                                              shape=tractor_shape)\n",
    "# the tractor can be visualized by converting it into a DynamicObstacle\n",
    "tractor_type = ObstacleType.TRUCK\n",
    "tractor = DynamicObstacle(obstacle_id=100, obstacle_type=tractor_type,\n",
    "                              obstacle_shape=tractor_shape, initial_state=initial_state,\n",
    "                              prediction=tractor_prediction)"
   ]
  },
  {
   "cell_type": "markdown",
   "metadata": {},
   "source": [
    "#### **3.8.2 Create trailer DynamicObstalce**"
   ]
  },
  {
   "cell_type": "code",
   "execution_count": 38,
   "metadata": {},
   "outputs": [],
   "source": [
    "## treat trailer as another DynamicObstacle JUST for visualization.              \n",
    "state_list = []\n",
    "# add init state first\n",
    "state_list.append(State(**{'position': np.asarray([\n",
    "                                initial_state.position[0] \\\n",
    "                                    - (ep.l_wbt + trailer_rear_to_trailer_center) * math.cos(initial_state.orientation),\n",
    "                                initial_state.position[1] \\\n",
    "                                    - (ep.l_wbt + trailer_rear_to_trailer_center) * math.sin(initial_state.orientation),\n",
    "                                ]), \n",
    "                           'orientation':initial_state.orientation,\n",
    "                           'time_step': 0, \n",
    "                           }))\n",
    "for i in range(1, N):\n",
    "    # add new state to state_list    \n",
    "    state_list.append(State(**{'position': np.array([\n",
    "                                    state_dic['trailer_pos_x'][i] \\\n",
    "                                        + trailer_rear_to_trailer_center * math.cos(state_dic['trailer_orientation'][i]), \n",
    "                                    state_dic['trailer_pos_y'][i] \\\n",
    "                                        + trailer_rear_to_trailer_center * math.sin(state_dic['trailer_orientation'][i])\n",
    "                                    ]),\n",
    "                                'orientation': state_dic['trailer_orientation'][i],\n",
    "                                'time_step': i, \n",
    "                                }))\n",
    "# create the planned trajectory starting at time step 0\n",
    "trailer_trajectory = Trajectory(initial_time_step=0, state_list=state_list[0:])\n",
    "# create the prediction using the planned trajectory and the shape of the trailer\n",
    "trailer_shape = Rectangle(length=ep.trailer_l,\n",
    "                          width=ep.trailer_w)\n",
    "trailer_prediction = TrajectoryPrediction(trajectory=trailer_trajectory,\n",
    "                                              shape=trailer_shape)\n",
    "# the trailer can be visualized by converting it into a DynamicObstacle\n",
    "trailer = DynamicObstacle(obstacle_id=100, obstacle_type=tractor_type,\n",
    "                              obstacle_shape=trailer_shape, initial_state=initial_state,\n",
    "                              prediction=trailer_prediction)"
   ]
  },
  {
   "cell_type": "markdown",
   "metadata": {},
   "source": [
    "#### **3.8.3 Visualize solution**"
   ]
  },
  {
   "cell_type": "code",
   "execution_count": 39,
   "metadata": {},
   "outputs": [
    {
     "data": {
      "image/png": "[encoded data removed]",
      "text/plain": [
       "<Figure size 1800x720 with 1 Axes>"
      ]
     },
     "metadata": {
      "needs_background": "light"
     },
     "output_type": "display_data"
    }
   ],
   "source": [
    "## Visualization.\n",
    "plt.ion()\n",
    "plt.figure(figsize=(25, 10))\n",
    "# plot the scenario and the ego vehicle for each time step\n",
    "for i in range(0, N):\n",
    "    plt.figure(figsize=(25, 10))\n",
    "    display.clear_output(wait=True)\n",
    "    rnd = MPRenderer()\n",
    "    window_size = 150\n",
    "    rnd.plot_limits = [-window_size,\n",
    "                        window_size, -window_size, window_size]\n",
    "    scenario.draw(rnd, draw_params={\n",
    "        'time_begin': i, 'focus_obstacle_id': scenario.dynamic_obstacles[0].obstacle_id})\n",
    "    scenario.draw(rnd, draw_params={'time_begin': i})\n",
    "    tractor.draw(rnd, draw_params={'time_begin': i, 'dynamic_obstacle': {\n",
    "        'vehicle_shape': {'occupancy': {'shape': {'rectangle': {\n",
    "            'facecolor': 'slategrey'}}}}}})\n",
    "    trailer.draw(rnd, draw_params={'time_begin': i, 'dynamic_obstacle': {\n",
    "        'vehicle_shape': {'occupancy': {'shape': {'rectangle': {\n",
    "            'facecolor': 'darkviolet'}}}}}})\n",
    "    planning_problem_set.draw(rnd)\n",
    "    rnd.render()\n",
    "    plt.pause(0.1)"
   ]
  },
  {
   "cell_type": "markdown",
   "metadata": {},
   "source": [
    "#### **3.8.4 Save solution**"
   ]
  },
  {
   "cell_type": "code",
   "execution_count": 40,
   "metadata": {},
   "outputs": [],
   "source": [
    "## tractor for submit\n",
    "state_list = []\n",
    "# add init state first\n",
    "state_list.append(State(**{'position': initial_state.position, \n",
    "                           'steering_angle': 0.0,\n",
    "                           'velocity':initial_state.velocity,\n",
    "                           'orientation': initial_state.orientation,\n",
    "                           'hitch_angle': 0.0,\n",
    "                           'position_trailer': np.array([\n",
    "                               initial_state.position[0] - ep.l_wbt * math.cos(initial_state.orientation),\n",
    "                               initial_state.position[1] - ep.l_wbt * math.sin(initial_state.orientation)\n",
    "                           ]),\n",
    "                           'yaw_angle_trailer': initial_state.orientation,\n",
    "                           'time_step': 0\n",
    "                           }))\n",
    "for i in range(1, N):\n",
    "    # add new state to state_list    \n",
    "    state_list.append(State(**{'position': np.array([\n",
    "                                    state_dic['tractor_pos_x'][i], \n",
    "                                    state_dic['tractor_pos_y'][i]\n",
    "                                    ]), \n",
    "                               'steering_angle': state_dic['tractor_steer'][i],\n",
    "                               'velocity': state_dic['tractor_vel'][i],\n",
    "                               'orientation': state_dic['tractor_orientation'][i],\n",
    "                               'hitch_angle': state_dic['hitch_angle'][i],\n",
    "                               'position_trailer': np.array([\n",
    "                                   state_dic['trailer_pos_x'][i],\n",
    "                                   state_dic['trailer_pos_y'][i]\n",
    "                               ]),\n",
    "                               'yaw_angle_trailer': state_dic['trailer_orientation'][i],\n",
    "                               'time_step': i, \n",
    "                              }))\n",
    "\n",
    "# create the planned trajectory starting at time step 0\n",
    "tractor_trajectory = Trajectory(initial_time_step=0, state_list=state_list[0:])\n",
    "# create the prediction using the planned trajectory and the shape of the tractor\n",
    "tractor_shape = Rectangle(length=ep.tractor_l, \n",
    "                          width=ep.tractor_w)\n",
    "tractor_prediction = TrajectoryPrediction(trajectory=tractor_trajectory,\n",
    "                                              shape=tractor_shape)\n",
    "# the tractor can be visualized by converting it into a DynamicObstacle\n",
    "tractor_type = ObstacleType.TRUCK\n",
    "tractor = DynamicObstacle(obstacle_id=100, obstacle_type=tractor_type,\n",
    "                              obstacle_shape=tractor_shape, initial_state=initial_state,\n",
    "                              prediction=tractor_prediction)\n",
    "\n",
    "\n",
    "# trajectory_solution是已生成的Trajectory\n",
    "# 创建 PlanningProblemSolution 对象\n",
    "kwarg = {'planning_problem_id': planning_problem.planning_problem_id,\n",
    "         # 指定车辆模型\n",
    "         'vehicle_model': VehicleModel.SEMI_TRAILER,\n",
    "         # 指定车辆类型\n",
    "         'vehicle_type': VehicleType.SEMI_TRAILER,\n",
    "         # 代价函数，请使用ST\n",
    "         'cost_function': CostFunction.ST,\n",
    "         'trajectory': tractor_prediction.trajectory}\n",
    "\n",
    "planning_problem_solution = PlanningProblemSolution(**kwarg)\n",
    "\n",
    "# 创建Solution对象\n",
    "kwarg = {'scenario_id': scenario.scenario_id,\n",
    "         'planning_problem_solutions': [planning_problem_solution]}\n",
    "\n",
    "solution = Solution(**kwarg)\n",
    "\n",
    "\n",
    "dir_output = \"./outputs/solutions/\"\n",
    "if not os.path.exists(dir_output):\n",
    "    os.makedirs(dir_output)\n",
    "# 生成解答文件\n",
    "csw = CommonRoadSolutionWriter(solution)\n",
    "csw.write_to_file(output_path=dir_output, overwrite=True)"
   ]
  },
  {
   "cell_type": "code",
   "execution_count": null,
   "metadata": {},
   "outputs": [],
   "source": []
  }
 ],
 "metadata": {
  "kernelspec": {
   "display_name": "Python 3.9.13 ('venv_itac': venv)",
   "language": "python",
   "name": "python3"
  },
  "language_info": {
   "codemirror_mode": {
    "name": "ipython",
    "version": 3
   },
   "file_extension": ".py",
   "mimetype": "text/x-python",
   "name": "python",
   "nbconvert_exporter": "python",
   "pygments_lexer": "ipython3",
   "version": "3.9.13"
  },
  "vscode": {
   "interpreter": {
    "hash": "e8fd764ea123fbb9af443e5d4d1c6af002519b60b567d7877a4563f6406eef83"
   }
  }
 },
 "nbformat": 4,
 "nbformat_minor": 4
}
